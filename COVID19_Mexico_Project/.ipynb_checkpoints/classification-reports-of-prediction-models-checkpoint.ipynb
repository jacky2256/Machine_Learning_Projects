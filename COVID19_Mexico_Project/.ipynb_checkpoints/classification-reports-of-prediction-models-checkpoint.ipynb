{
 "cells": [
  {
   "cell_type": "code",
   "execution_count": 1,
   "id": "f8d54527",
   "metadata": {
    "execution": {
     "iopub.execute_input": "2023-01-03T02:01:37.956702Z",
     "iopub.status.busy": "2023-01-03T02:01:37.955932Z",
     "iopub.status.idle": "2023-01-03T02:01:40.292709Z",
     "shell.execute_reply": "2023-01-03T02:01:40.291735Z"
    },
    "papermill": {
     "duration": 2.362751,
     "end_time": "2023-01-03T02:01:40.295252",
     "exception": false,
     "start_time": "2023-01-03T02:01:37.932501",
     "status": "completed"
    },
    "tags": []
   },
   "outputs": [
    {
     "ename": "ModuleNotFoundError",
     "evalue": "No module named 'plotly'",
     "output_type": "error",
     "traceback": [
      "\u001b[0;31m---------------------------------------------------------------------------\u001b[0m",
      "\u001b[0;31mModuleNotFoundError\u001b[0m                       Traceback (most recent call last)",
      "Cell \u001b[0;32mIn [1], line 2\u001b[0m\n\u001b[1;32m      1\u001b[0m \u001b[38;5;28;01mimport\u001b[39;00m \u001b[38;5;21;01mpandas\u001b[39;00m \u001b[38;5;28;01mas\u001b[39;00m \u001b[38;5;21;01mpd\u001b[39;00m\n\u001b[0;32m----> 2\u001b[0m \u001b[38;5;28;01mimport\u001b[39;00m \u001b[38;5;21;01mplotly\u001b[39;00m\u001b[38;5;21;01m.\u001b[39;00m\u001b[38;5;21;01mexpress\u001b[39;00m \u001b[38;5;28;01mas\u001b[39;00m \u001b[38;5;21;01mpx\u001b[39;00m\n\u001b[1;32m      3\u001b[0m \u001b[38;5;28;01mimport\u001b[39;00m \u001b[38;5;21;01mnumpy\u001b[39;00m \u001b[38;5;28;01mas\u001b[39;00m \u001b[38;5;21;01mnp\u001b[39;00m\n",
      "\u001b[0;31mModuleNotFoundError\u001b[0m: No module named 'plotly'"
     ]
    }
   ],
   "source": [
    "import pandas as pd\n",
    "import plotly.express as px\n",
    "import numpy as np"
   ]
  },
  {
   "cell_type": "code",
   "execution_count": null,
   "id": "37e696ee",
   "metadata": {
    "execution": {
     "iopub.execute_input": "2023-01-03T02:01:40.335613Z",
     "iopub.status.busy": "2023-01-03T02:01:40.335302Z",
     "iopub.status.idle": "2023-01-03T02:01:41.984253Z",
     "shell.execute_reply": "2023-01-03T02:01:41.983281Z"
    },
    "papermill": {
     "duration": 1.672483,
     "end_time": "2023-01-03T02:01:41.987640",
     "exception": false,
     "start_time": "2023-01-03T02:01:40.315157",
     "status": "completed"
    },
    "scrolled": true,
    "tags": []
   },
   "outputs": [],
   "source": [
    "df = pd.read_csv(\"/kaggle/input/covid19-dataset/Covid Data.csv\")\n",
    "df.head()"
   ]
  },
  {
   "cell_type": "code",
   "execution_count": null,
   "id": "2d0edda4",
   "metadata": {
    "execution": {
     "iopub.execute_input": "2023-01-03T02:01:42.033466Z",
     "iopub.status.busy": "2023-01-03T02:01:42.032452Z",
     "iopub.status.idle": "2023-01-03T02:01:42.039132Z",
     "shell.execute_reply": "2023-01-03T02:01:42.038089Z"
    },
    "papermill": {
     "duration": 0.029966,
     "end_time": "2023-01-03T02:01:42.041463",
     "exception": false,
     "start_time": "2023-01-03T02:01:42.011497",
     "status": "completed"
    },
    "tags": []
   },
   "outputs": [],
   "source": [
    "df.shape"
   ]
  },
  {
   "cell_type": "code",
   "execution_count": null,
   "id": "50fbed27",
   "metadata": {
    "execution": {
     "iopub.execute_input": "2023-01-03T02:01:42.082137Z",
     "iopub.status.busy": "2023-01-03T02:01:42.081839Z",
     "iopub.status.idle": "2023-01-03T02:01:42.087575Z",
     "shell.execute_reply": "2023-01-03T02:01:42.086682Z"
    },
    "papermill": {
     "duration": 0.028254,
     "end_time": "2023-01-03T02:01:42.089531",
     "exception": false,
     "start_time": "2023-01-03T02:01:42.061277",
     "status": "completed"
    },
    "tags": []
   },
   "outputs": [],
   "source": [
    "df.columns"
   ]
  },
  {
   "cell_type": "markdown",
   "id": "1de7601c",
   "metadata": {
    "papermill": {
     "duration": 0.020103,
     "end_time": "2023-01-03T02:01:42.129547",
     "exception": false,
     "start_time": "2023-01-03T02:01:42.109444",
     "status": "completed"
    },
    "tags": []
   },
   "source": [
    "# Column Definitions\n",
    "* **USMER** : This indicates whether the patient treated medical units of the first, second or third level\n",
    "* **MEDICAL_UNIT** : The type of institution of the Natinal Health System that provided the care.\n",
    "* **SEX** : 1-\"Female\", 2-\"male\".\n",
    "* **PATIENT_TYPE** : The type of care the patient received in the unit. 1-**\"returned home\"**, 2-**\"hospitalization\"**. **97** and **99** are missing data.\n",
    "* **DATE_DIED** : Indicated date of death means that the patient died, except for **9999-99-99** which means that the patient survived..\n",
    "* **INTUBED** : Wether the patient was connected to a ventilator. 1-**\"yes\"**, 2-**\"no\"**\n",
    "* **PNEUMONIA** : Whether the patient already have air sacs inflamation or not.1-**\"yes\"**, 2-**\"no\"**, while **97** and **99** are missing data.\n",
    "* **AGE**: The patient's age. \n",
    "* **PREGNANT**: Whether the patient is pregnant or not.1-**\"yes\"**, 2-**\"no\"**, while **97** and **99** are missing data.\n",
    "* **DIABETES** : Whether the patient has diabetes or not.\n",
    "* **COPD** : Whether the patient has chronic obstructive pulmonary disease or not.\n",
    "* **ASTHMA** : Whether the patient has asthma or not.\n",
    "* **INMSUPR** : Whether the patient is immunosuppressed or not.\n",
    "* **HYPERTENSION** : Whether the patient has hypertension or not.\n",
    "* **OTHER DISEASE** : Whether the patient has other disease or not.\n",
    "* **CARDIOVASCULAR** : Whether the patient has patient has heart or blood vessels related diseases.\n",
    "* **OBESITY** : Whether the patient is obessed or not.\n",
    "* **RENAL CHRONIC** : Whether the patient has chronic renal disease or not.\n",
    "* **TOBACCO** : Whether the patient is a tobacco user or not.\n",
    "* **CLASIFFICATION_FINAL** : Covid test findings. Values 1-3 means that the patient was diagnosed with covid in different degrees. 4 or higher means that the patient is not a carrier of covid or that the test is inconclusive.\n",
    "* **ICU** : Whether the patient has been admitted into the intensive care unit.\n",
    "\n",
    "\n",
    "\n"
   ]
  },
  {
   "cell_type": "markdown",
   "id": "a60cc08b",
   "metadata": {
    "papermill": {
     "duration": 0.019758,
     "end_time": "2023-01-03T02:01:42.169589",
     "exception": false,
     "start_time": "2023-01-03T02:01:42.149831",
     "status": "completed"
    },
    "tags": []
   },
   "source": [
    "# Changing the Column names from Upper case to lower case.\n"
   ]
  },
  {
   "cell_type": "code",
   "execution_count": null,
   "id": "841c8bbf",
   "metadata": {
    "execution": {
     "iopub.execute_input": "2023-01-03T02:01:42.212527Z",
     "iopub.status.busy": "2023-01-03T02:01:42.210915Z",
     "iopub.status.idle": "2023-01-03T02:01:42.216430Z",
     "shell.execute_reply": "2023-01-03T02:01:42.215450Z"
    },
    "papermill": {
     "duration": 0.02885,
     "end_time": "2023-01-03T02:01:42.218460",
     "exception": false,
     "start_time": "2023-01-03T02:01:42.189610",
     "status": "completed"
    },
    "tags": []
   },
   "outputs": [],
   "source": [
    "df.columns = df.columns.str.lower()"
   ]
  },
  {
   "cell_type": "code",
   "execution_count": null,
   "id": "886bbe85",
   "metadata": {
    "execution": {
     "iopub.execute_input": "2023-01-03T02:01:42.259380Z",
     "iopub.status.busy": "2023-01-03T02:01:42.259117Z",
     "iopub.status.idle": "2023-01-03T02:01:42.274952Z",
     "shell.execute_reply": "2023-01-03T02:01:42.274106Z"
    },
    "papermill": {
     "duration": 0.038589,
     "end_time": "2023-01-03T02:01:42.276829",
     "exception": false,
     "start_time": "2023-01-03T02:01:42.238240",
     "status": "completed"
    },
    "tags": []
   },
   "outputs": [],
   "source": [
    "df.head()"
   ]
  },
  {
   "cell_type": "code",
   "execution_count": null,
   "id": "ac9a34e6",
   "metadata": {
    "execution": {
     "iopub.execute_input": "2023-01-03T02:01:42.318818Z",
     "iopub.status.busy": "2023-01-03T02:01:42.318051Z",
     "iopub.status.idle": "2023-01-03T02:01:42.324571Z",
     "shell.execute_reply": "2023-01-03T02:01:42.323701Z"
    },
    "papermill": {
     "duration": 0.029602,
     "end_time": "2023-01-03T02:01:42.326415",
     "exception": false,
     "start_time": "2023-01-03T02:01:42.296813",
     "status": "completed"
    },
    "scrolled": true,
    "tags": []
   },
   "outputs": [],
   "source": [
    "df.columns"
   ]
  },
  {
   "cell_type": "markdown",
   "id": "15047940",
   "metadata": {
    "papermill": {
     "duration": 0.019804,
     "end_time": "2023-01-03T02:01:42.366318",
     "exception": false,
     "start_time": "2023-01-03T02:01:42.346514",
     "status": "completed"
    },
    "tags": []
   },
   "source": [
    "### Renaming \"hipertension\" to \"hypertension\""
   ]
  },
  {
   "cell_type": "code",
   "execution_count": null,
   "id": "421452f3",
   "metadata": {
    "execution": {
     "iopub.execute_input": "2023-01-03T02:01:42.409444Z",
     "iopub.status.busy": "2023-01-03T02:01:42.408711Z",
     "iopub.status.idle": "2023-01-03T02:01:42.416435Z",
     "shell.execute_reply": "2023-01-03T02:01:42.415605Z"
    },
    "papermill": {
     "duration": 0.03203,
     "end_time": "2023-01-03T02:01:42.418426",
     "exception": false,
     "start_time": "2023-01-03T02:01:42.386396",
     "status": "completed"
    },
    "tags": []
   },
   "outputs": [],
   "source": [
    "df.rename(columns= {\"hipertension\": \"hypertension\"}, inplace=True)"
   ]
  },
  {
   "cell_type": "markdown",
   "id": "69caacfd",
   "metadata": {
    "papermill": {
     "duration": 0.019809,
     "end_time": "2023-01-03T02:01:42.458197",
     "exception": false,
     "start_time": "2023-01-03T02:01:42.438388",
     "status": "completed"
    },
    "tags": []
   },
   "source": [
    "# Removing Missing Data"
   ]
  },
  {
   "cell_type": "code",
   "execution_count": null,
   "id": "3dc25c3c",
   "metadata": {
    "execution": {
     "iopub.execute_input": "2023-01-03T02:01:42.499338Z",
     "iopub.status.busy": "2023-01-03T02:01:42.499076Z",
     "iopub.status.idle": "2023-01-03T02:01:42.576590Z",
     "shell.execute_reply": "2023-01-03T02:01:42.575470Z"
    },
    "papermill": {
     "duration": 0.101953,
     "end_time": "2023-01-03T02:01:42.580182",
     "exception": false,
     "start_time": "2023-01-03T02:01:42.478229",
     "status": "completed"
    },
    "scrolled": true,
    "tags": []
   },
   "outputs": [],
   "source": [
    "df.info()"
   ]
  },
  {
   "cell_type": "code",
   "execution_count": null,
   "id": "87fbf79b",
   "metadata": {
    "execution": {
     "iopub.execute_input": "2023-01-03T02:01:42.623881Z",
     "iopub.status.busy": "2023-01-03T02:01:42.623609Z",
     "iopub.status.idle": "2023-01-03T02:01:42.800474Z",
     "shell.execute_reply": "2023-01-03T02:01:42.799061Z"
    },
    "papermill": {
     "duration": 0.20041,
     "end_time": "2023-01-03T02:01:42.802915",
     "exception": false,
     "start_time": "2023-01-03T02:01:42.602505",
     "status": "completed"
    },
    "tags": []
   },
   "outputs": [],
   "source": [
    "for col in df.columns:\n",
    "    print(f\"{col}--{df[col].nunique()}\")"
   ]
  },
  {
   "cell_type": "markdown",
   "id": "02093aff",
   "metadata": {
    "papermill": {
     "duration": 0.020164,
     "end_time": "2023-01-03T02:01:42.843854",
     "exception": false,
     "start_time": "2023-01-03T02:01:42.823690",
     "status": "completed"
    },
    "tags": []
   },
   "source": [
    "# The following columns (14 of them) of the data needs to be examined in order to remove missing values from them:\n",
    "* **intubed**\n",
    "* **pneumonia**\n",
    "* **pregnant**\n",
    "* **diabetes**\n",
    "* **copd**\n",
    "* **asthma**\n",
    "* **inmsupr**\n",
    "* **hypertension**\n",
    "* **other disease**\n",
    "* **cardivascular**\n",
    "* **obesity**\n",
    "* **renal_chronic**\n",
    "* **tobacco**\n",
    "* **icu**\n",
    "\n",
    "**Notice that these columns contains more than 2 unique values indicating yes or no.**"
   ]
  },
  {
   "cell_type": "code",
   "execution_count": null,
   "id": "d67849f6",
   "metadata": {},
   "outputs": [],
   "source": []
  },
  {
   "cell_type": "code",
   "execution_count": null,
   "id": "e7617842",
   "metadata": {
    "execution": {
     "iopub.execute_input": "2023-01-03T02:01:42.886180Z",
     "iopub.status.busy": "2023-01-03T02:01:42.885333Z",
     "iopub.status.idle": "2023-01-03T02:01:43.201044Z",
     "shell.execute_reply": "2023-01-03T02:01:43.199908Z"
    },
    "papermill": {
     "duration": 0.339288,
     "end_time": "2023-01-03T02:01:43.203405",
     "exception": false,
     "start_time": "2023-01-03T02:01:42.864117",
     "status": "completed"
    },
    "scrolled": true,
    "tags": []
   },
   "outputs": [],
   "source": [
    "missing_value_columns = [col for col in df.columns if len(df[col].unique()) >2 and len(df[col].unique())<=4]\n",
    "missing_value_columns"
   ]
  },
  {
   "cell_type": "code",
   "execution_count": null,
   "id": "a4e82265",
   "metadata": {
    "execution": {
     "iopub.execute_input": "2023-01-03T02:01:43.248767Z",
     "iopub.status.busy": "2023-01-03T02:01:43.248476Z",
     "iopub.status.idle": "2023-01-03T02:01:43.264626Z",
     "shell.execute_reply": "2023-01-03T02:01:43.263767Z"
    },
    "papermill": {
     "duration": 0.041803,
     "end_time": "2023-01-03T02:01:43.266565",
     "exception": false,
     "start_time": "2023-01-03T02:01:43.224762",
     "status": "completed"
    },
    "tags": []
   },
   "outputs": [],
   "source": [
    "df['icu'].value_counts().index"
   ]
  },
  {
   "cell_type": "markdown",
   "id": "b0243572",
   "metadata": {
    "papermill": {
     "duration": 0.020316,
     "end_time": "2023-01-03T02:01:43.307825",
     "exception": false,
     "start_time": "2023-01-03T02:01:43.287509",
     "status": "completed"
    },
    "tags": []
   },
   "source": [
    "# Now lets visualize the unique values in these coluns of the dataset"
   ]
  },
  {
   "cell_type": "code",
   "execution_count": null,
   "id": "ef7224da",
   "metadata": {
    "execution": {
     "iopub.execute_input": "2023-01-03T02:01:43.350142Z",
     "iopub.status.busy": "2023-01-03T02:01:43.349853Z",
     "iopub.status.idle": "2023-01-03T02:01:44.907615Z",
     "shell.execute_reply": "2023-01-03T02:01:44.906551Z"
    },
    "papermill": {
     "duration": 1.581979,
     "end_time": "2023-01-03T02:01:44.910423",
     "exception": false,
     "start_time": "2023-01-03T02:01:43.328444",
     "status": "completed"
    },
    "tags": []
   },
   "outputs": [],
   "source": [
    "for col in df[missing_value_columns]:\n",
    "    fig = px.pie(df, values=df[col].value_counts(), names=df[col].value_counts().index, title= f'\"{col}\" value counts')\n",
    "    fig.show()"
   ]
  },
  {
   "cell_type": "markdown",
   "id": "21c71c3a",
   "metadata": {
    "papermill": {
     "duration": 0.023107,
     "end_time": "2023-01-03T02:01:44.957900",
     "exception": false,
     "start_time": "2023-01-03T02:01:44.934793",
     "status": "completed"
    },
    "tags": []
   },
   "source": [
    "# 1.  \"intubed\" \n",
    "### Wether the patient was connected to a ventilator. 1-\"yes\", 2-\"no\""
   ]
  },
  {
   "cell_type": "code",
   "execution_count": null,
   "id": "03e775a0",
   "metadata": {
    "execution": {
     "iopub.execute_input": "2023-01-03T02:01:45.007478Z",
     "iopub.status.busy": "2023-01-03T02:01:45.005842Z",
     "iopub.status.idle": "2023-01-03T02:01:45.110932Z",
     "shell.execute_reply": "2023-01-03T02:01:45.109910Z"
    },
    "papermill": {
     "duration": 0.13181,
     "end_time": "2023-01-03T02:01:45.113164",
     "exception": false,
     "start_time": "2023-01-03T02:01:44.981354",
     "status": "completed"
    },
    "tags": []
   },
   "outputs": [],
   "source": [
    "len(df[df[\"intubed\"]>=97])"
   ]
  },
  {
   "cell_type": "markdown",
   "id": "7c07671f",
   "metadata": {
    "papermill": {
     "duration": 0.022991,
     "end_time": "2023-01-03T02:01:45.159613",
     "exception": false,
     "start_time": "2023-01-03T02:01:45.136622",
     "status": "completed"
    },
    "tags": []
   },
   "source": [
    "### We will be dropping the \"intubed\" column as above 80% of the record contains missing data."
   ]
  },
  {
   "cell_type": "code",
   "execution_count": null,
   "id": "c3dd0c34",
   "metadata": {
    "execution": {
     "iopub.execute_input": "2023-01-03T02:01:45.208357Z",
     "iopub.status.busy": "2023-01-03T02:01:45.207517Z",
     "iopub.status.idle": "2023-01-03T02:01:45.278698Z",
     "shell.execute_reply": "2023-01-03T02:01:45.277639Z"
    },
    "papermill": {
     "duration": 0.098533,
     "end_time": "2023-01-03T02:01:45.281459",
     "exception": false,
     "start_time": "2023-01-03T02:01:45.182926",
     "status": "completed"
    },
    "tags": []
   },
   "outputs": [],
   "source": [
    "df.drop(\"intubed\", axis=1, inplace=True)"
   ]
  },
  {
   "cell_type": "code",
   "execution_count": null,
   "id": "90b67b06",
   "metadata": {
    "execution": {
     "iopub.execute_input": "2023-01-03T02:01:45.332126Z",
     "iopub.status.busy": "2023-01-03T02:01:45.331777Z",
     "iopub.status.idle": "2023-01-03T02:01:45.338099Z",
     "shell.execute_reply": "2023-01-03T02:01:45.337172Z"
    },
    "papermill": {
     "duration": 0.032963,
     "end_time": "2023-01-03T02:01:45.340171",
     "exception": false,
     "start_time": "2023-01-03T02:01:45.307208",
     "status": "completed"
    },
    "tags": []
   },
   "outputs": [],
   "source": [
    "len(df.columns)"
   ]
  },
  {
   "cell_type": "markdown",
   "id": "dd694dde",
   "metadata": {
    "papermill": {
     "duration": 0.023473,
     "end_time": "2023-01-03T02:01:45.387334",
     "exception": false,
     "start_time": "2023-01-03T02:01:45.363861",
     "status": "completed"
    },
    "tags": []
   },
   "source": [
    "# 2. \"pneumonia\""
   ]
  },
  {
   "cell_type": "code",
   "execution_count": null,
   "id": "6db78d00",
   "metadata": {
    "execution": {
     "iopub.execute_input": "2023-01-03T02:01:45.438670Z",
     "iopub.status.busy": "2023-01-03T02:01:45.437196Z",
     "iopub.status.idle": "2023-01-03T02:01:45.447999Z",
     "shell.execute_reply": "2023-01-03T02:01:45.447107Z"
    },
    "papermill": {
     "duration": 0.039097,
     "end_time": "2023-01-03T02:01:45.449976",
     "exception": false,
     "start_time": "2023-01-03T02:01:45.410879",
     "status": "completed"
    },
    "tags": []
   },
   "outputs": [],
   "source": [
    "len(df[df[\"pneumonia\"]>=97])"
   ]
  },
  {
   "cell_type": "markdown",
   "id": "ecdb1188",
   "metadata": {
    "papermill": {
     "duration": 0.025666,
     "end_time": "2023-01-03T02:01:45.500520",
     "exception": false,
     "start_time": "2023-01-03T02:01:45.474854",
     "status": "completed"
    },
    "tags": []
   },
   "source": [
    "### We will be dropping the missing values from this column\n"
   ]
  },
  {
   "cell_type": "code",
   "execution_count": null,
   "id": "ffe0d598",
   "metadata": {
    "execution": {
     "iopub.execute_input": "2023-01-03T02:01:45.556473Z",
     "iopub.status.busy": "2023-01-03T02:01:45.555534Z",
     "iopub.status.idle": "2023-01-03T02:01:45.676159Z",
     "shell.execute_reply": "2023-01-03T02:01:45.675084Z"
    },
    "papermill": {
     "duration": 0.150977,
     "end_time": "2023-01-03T02:01:45.678449",
     "exception": false,
     "start_time": "2023-01-03T02:01:45.527472",
     "status": "completed"
    },
    "tags": []
   },
   "outputs": [],
   "source": [
    "df = df[df[\"pneumonia\"]<99]\n",
    "df.shape"
   ]
  },
  {
   "cell_type": "markdown",
   "id": "a305f3e2",
   "metadata": {
    "papermill": {
     "duration": 0.023471,
     "end_time": "2023-01-03T02:01:45.726563",
     "exception": false,
     "start_time": "2023-01-03T02:01:45.703092",
     "status": "completed"
    },
    "tags": []
   },
   "source": [
    "# 3.  \"pregnant\""
   ]
  },
  {
   "cell_type": "code",
   "execution_count": null,
   "id": "8cb218cb",
   "metadata": {
    "execution": {
     "iopub.execute_input": "2023-01-03T02:01:45.776623Z",
     "iopub.status.busy": "2023-01-03T02:01:45.774848Z",
     "iopub.status.idle": "2023-01-03T02:01:45.847151Z",
     "shell.execute_reply": "2023-01-03T02:01:45.846088Z"
    },
    "papermill": {
     "duration": 0.099294,
     "end_time": "2023-01-03T02:01:45.849315",
     "exception": false,
     "start_time": "2023-01-03T02:01:45.750021",
     "status": "completed"
    },
    "tags": []
   },
   "outputs": [],
   "source": [
    "len(df[df[\"pregnant\"]>=97])"
   ]
  },
  {
   "cell_type": "markdown",
   "id": "2590b099",
   "metadata": {
    "papermill": {
     "duration": 0.024118,
     "end_time": "2023-01-03T02:01:45.898484",
     "exception": false,
     "start_time": "2023-01-03T02:01:45.874366",
     "status": "completed"
    },
    "tags": []
   },
   "source": [
    "### We will be dropping the \"pregnant\" column as about 50% of the record contains missing data."
   ]
  },
  {
   "cell_type": "code",
   "execution_count": null,
   "id": "cac2e0e4",
   "metadata": {
    "execution": {
     "iopub.execute_input": "2023-01-03T02:01:45.949181Z",
     "iopub.status.busy": "2023-01-03T02:01:45.948315Z",
     "iopub.status.idle": "2023-01-03T02:01:46.015861Z",
     "shell.execute_reply": "2023-01-03T02:01:46.014861Z"
    },
    "papermill": {
     "duration": 0.095679,
     "end_time": "2023-01-03T02:01:46.018498",
     "exception": false,
     "start_time": "2023-01-03T02:01:45.922819",
     "status": "completed"
    },
    "tags": []
   },
   "outputs": [],
   "source": [
    "df.drop(\"pregnant\", axis=1, inplace=True)"
   ]
  },
  {
   "cell_type": "markdown",
   "id": "f824e28c",
   "metadata": {
    "papermill": {
     "duration": 0.023315,
     "end_time": "2023-01-03T02:01:46.066563",
     "exception": false,
     "start_time": "2023-01-03T02:01:46.043248",
     "status": "completed"
    },
    "tags": []
   },
   "source": [
    "# 4. \"diabetes\""
   ]
  },
  {
   "cell_type": "code",
   "execution_count": null,
   "id": "ed80d2a2",
   "metadata": {
    "execution": {
     "iopub.execute_input": "2023-01-03T02:01:46.115300Z",
     "iopub.status.busy": "2023-01-03T02:01:46.114658Z",
     "iopub.status.idle": "2023-01-03T02:01:46.124888Z",
     "shell.execute_reply": "2023-01-03T02:01:46.123903Z"
    },
    "papermill": {
     "duration": 0.036759,
     "end_time": "2023-01-03T02:01:46.126869",
     "exception": false,
     "start_time": "2023-01-03T02:01:46.090110",
     "status": "completed"
    },
    "tags": []
   },
   "outputs": [],
   "source": [
    "len(df[df[\"diabetes\"]>=97])"
   ]
  },
  {
   "cell_type": "markdown",
   "id": "5bf3e9ae",
   "metadata": {
    "papermill": {
     "duration": 0.02314,
     "end_time": "2023-01-03T02:01:46.173931",
     "exception": false,
     "start_time": "2023-01-03T02:01:46.150791",
     "status": "completed"
    },
    "tags": []
   },
   "source": [
    "### We will be dropping the missing values from this column"
   ]
  },
  {
   "cell_type": "code",
   "execution_count": null,
   "id": "f1b650ee",
   "metadata": {
    "execution": {
     "iopub.execute_input": "2023-01-03T02:01:46.223329Z",
     "iopub.status.busy": "2023-01-03T02:01:46.221745Z",
     "iopub.status.idle": "2023-01-03T02:01:46.331039Z",
     "shell.execute_reply": "2023-01-03T02:01:46.329982Z"
    },
    "papermill": {
     "duration": 0.136144,
     "end_time": "2023-01-03T02:01:46.333436",
     "exception": false,
     "start_time": "2023-01-03T02:01:46.197292",
     "status": "completed"
    },
    "tags": []
   },
   "outputs": [],
   "source": [
    "df = df[df[\"diabetes\"]<97]\n",
    "df.shape"
   ]
  },
  {
   "cell_type": "markdown",
   "id": "8bd4de91",
   "metadata": {
    "papermill": {
     "duration": 0.023761,
     "end_time": "2023-01-03T02:01:46.381480",
     "exception": false,
     "start_time": "2023-01-03T02:01:46.357719",
     "status": "completed"
    },
    "tags": []
   },
   "source": [
    "# 5. \"copd\"\n",
    "### Whether the patient has chronic obstructive pulmonary disease or not."
   ]
  },
  {
   "cell_type": "code",
   "execution_count": null,
   "id": "08b36927",
   "metadata": {
    "execution": {
     "iopub.execute_input": "2023-01-03T02:01:46.430694Z",
     "iopub.status.busy": "2023-01-03T02:01:46.429789Z",
     "iopub.status.idle": "2023-01-03T02:01:46.439387Z",
     "shell.execute_reply": "2023-01-03T02:01:46.438398Z"
    },
    "papermill": {
     "duration": 0.03661,
     "end_time": "2023-01-03T02:01:46.441560",
     "exception": false,
     "start_time": "2023-01-03T02:01:46.404950",
     "status": "completed"
    },
    "tags": []
   },
   "outputs": [],
   "source": [
    "len(df[df[\"copd\"]>=97])"
   ]
  },
  {
   "cell_type": "markdown",
   "id": "1ba5862c",
   "metadata": {
    "papermill": {
     "duration": 0.023976,
     "end_time": "2023-01-03T02:01:46.489474",
     "exception": false,
     "start_time": "2023-01-03T02:01:46.465498",
     "status": "completed"
    },
    "tags": []
   },
   "source": [
    "### We will be dropping the missing values from this column"
   ]
  },
  {
   "cell_type": "code",
   "execution_count": null,
   "id": "e1d86ba3",
   "metadata": {
    "execution": {
     "iopub.execute_input": "2023-01-03T02:01:46.540380Z",
     "iopub.status.busy": "2023-01-03T02:01:46.539554Z",
     "iopub.status.idle": "2023-01-03T02:01:46.648386Z",
     "shell.execute_reply": "2023-01-03T02:01:46.647382Z"
    },
    "papermill": {
     "duration": 0.13676,
     "end_time": "2023-01-03T02:01:46.650706",
     "exception": false,
     "start_time": "2023-01-03T02:01:46.513946",
     "status": "completed"
    },
    "tags": []
   },
   "outputs": [],
   "source": [
    "df = df[df[\"copd\"]<97]\n",
    "df.shape"
   ]
  },
  {
   "cell_type": "markdown",
   "id": "b21db80f",
   "metadata": {
    "papermill": {
     "duration": 0.024074,
     "end_time": "2023-01-03T02:01:46.699005",
     "exception": false,
     "start_time": "2023-01-03T02:01:46.674931",
     "status": "completed"
    },
    "tags": []
   },
   "source": [
    "# 6. \"asthma\""
   ]
  },
  {
   "cell_type": "code",
   "execution_count": null,
   "id": "00421830",
   "metadata": {
    "execution": {
     "iopub.execute_input": "2023-01-03T02:01:46.750121Z",
     "iopub.status.busy": "2023-01-03T02:01:46.748551Z",
     "iopub.status.idle": "2023-01-03T02:01:46.758277Z",
     "shell.execute_reply": "2023-01-03T02:01:46.757318Z"
    },
    "papermill": {
     "duration": 0.036831,
     "end_time": "2023-01-03T02:01:46.760252",
     "exception": false,
     "start_time": "2023-01-03T02:01:46.723421",
     "status": "completed"
    },
    "tags": []
   },
   "outputs": [],
   "source": [
    "len(df[df[\"asthma\"]>=97])"
   ]
  },
  {
   "cell_type": "markdown",
   "id": "c2864853",
   "metadata": {
    "papermill": {
     "duration": 0.024336,
     "end_time": "2023-01-03T02:01:46.808835",
     "exception": false,
     "start_time": "2023-01-03T02:01:46.784499",
     "status": "completed"
    },
    "tags": []
   },
   "source": [
    "### We will be dropping the missing values from this column"
   ]
  },
  {
   "cell_type": "code",
   "execution_count": null,
   "id": "b5a6088e",
   "metadata": {
    "execution": {
     "iopub.execute_input": "2023-01-03T02:01:46.858830Z",
     "iopub.status.busy": "2023-01-03T02:01:46.857244Z",
     "iopub.status.idle": "2023-01-03T02:01:46.973157Z",
     "shell.execute_reply": "2023-01-03T02:01:46.972090Z"
    },
    "papermill": {
     "duration": 0.143076,
     "end_time": "2023-01-03T02:01:46.975665",
     "exception": false,
     "start_time": "2023-01-03T02:01:46.832589",
     "status": "completed"
    },
    "tags": []
   },
   "outputs": [],
   "source": [
    "df = df[df[\"asthma\"]<97]\n",
    "df.shape"
   ]
  },
  {
   "cell_type": "markdown",
   "id": "2cfa30ec",
   "metadata": {
    "papermill": {
     "duration": 0.026481,
     "end_time": "2023-01-03T02:01:47.027124",
     "exception": false,
     "start_time": "2023-01-03T02:01:47.000643",
     "status": "completed"
    },
    "tags": []
   },
   "source": [
    "# 7. \"inmsupr\"\n",
    "###  Whether the patient is immunosuppressed or not."
   ]
  },
  {
   "cell_type": "code",
   "execution_count": null,
   "id": "88b2ce60",
   "metadata": {
    "execution": {
     "iopub.execute_input": "2023-01-03T02:01:47.076800Z",
     "iopub.status.busy": "2023-01-03T02:01:47.076489Z",
     "iopub.status.idle": "2023-01-03T02:01:47.085739Z",
     "shell.execute_reply": "2023-01-03T02:01:47.084759Z"
    },
    "papermill": {
     "duration": 0.0366,
     "end_time": "2023-01-03T02:01:47.087728",
     "exception": false,
     "start_time": "2023-01-03T02:01:47.051128",
     "status": "completed"
    },
    "tags": []
   },
   "outputs": [],
   "source": [
    "len(df[df[\"inmsupr\"]>=97])"
   ]
  },
  {
   "cell_type": "markdown",
   "id": "bc63c441",
   "metadata": {
    "papermill": {
     "duration": 0.023748,
     "end_time": "2023-01-03T02:01:47.135640",
     "exception": false,
     "start_time": "2023-01-03T02:01:47.111892",
     "status": "completed"
    },
    "tags": []
   },
   "source": [
    "### We will be dropping the missing values from this column\n"
   ]
  },
  {
   "cell_type": "code",
   "execution_count": null,
   "id": "a41dc047",
   "metadata": {
    "execution": {
     "iopub.execute_input": "2023-01-03T02:01:47.185800Z",
     "iopub.status.busy": "2023-01-03T02:01:47.184373Z",
     "iopub.status.idle": "2023-01-03T02:01:47.293279Z",
     "shell.execute_reply": "2023-01-03T02:01:47.292262Z"
    },
    "papermill": {
     "duration": 0.13628,
     "end_time": "2023-01-03T02:01:47.295628",
     "exception": false,
     "start_time": "2023-01-03T02:01:47.159348",
     "status": "completed"
    },
    "tags": []
   },
   "outputs": [],
   "source": [
    "df = df[df[\"inmsupr\"]<97]\n",
    "df.shape"
   ]
  },
  {
   "cell_type": "code",
   "execution_count": null,
   "id": "49ab033d",
   "metadata": {
    "execution": {
     "iopub.execute_input": "2023-01-03T02:01:47.347547Z",
     "iopub.status.busy": "2023-01-03T02:01:47.346812Z",
     "iopub.status.idle": "2023-01-03T02:01:47.352906Z",
     "shell.execute_reply": "2023-01-03T02:01:47.351921Z"
    },
    "papermill": {
     "duration": 0.033323,
     "end_time": "2023-01-03T02:01:47.354905",
     "exception": false,
     "start_time": "2023-01-03T02:01:47.321582",
     "status": "completed"
    },
    "scrolled": true,
    "tags": []
   },
   "outputs": [],
   "source": [
    "missing_value_columns"
   ]
  },
  {
   "cell_type": "markdown",
   "id": "58490012",
   "metadata": {
    "papermill": {
     "duration": 0.025395,
     "end_time": "2023-01-03T02:01:47.404467",
     "exception": false,
     "start_time": "2023-01-03T02:01:47.379072",
     "status": "completed"
    },
    "tags": []
   },
   "source": [
    "# 8. \"hypertension\""
   ]
  },
  {
   "cell_type": "code",
   "execution_count": null,
   "id": "c331a448",
   "metadata": {
    "execution": {
     "iopub.execute_input": "2023-01-03T02:01:47.455923Z",
     "iopub.status.busy": "2023-01-03T02:01:47.454407Z",
     "iopub.status.idle": "2023-01-03T02:01:47.463832Z",
     "shell.execute_reply": "2023-01-03T02:01:47.462901Z"
    },
    "papermill": {
     "duration": 0.037147,
     "end_time": "2023-01-03T02:01:47.465755",
     "exception": false,
     "start_time": "2023-01-03T02:01:47.428608",
     "status": "completed"
    },
    "tags": []
   },
   "outputs": [],
   "source": [
    "len(df[df[\"hypertension\"]>=97])"
   ]
  },
  {
   "cell_type": "markdown",
   "id": "3f5ec83c",
   "metadata": {
    "papermill": {
     "duration": 0.024068,
     "end_time": "2023-01-03T02:01:47.514417",
     "exception": false,
     "start_time": "2023-01-03T02:01:47.490349",
     "status": "completed"
    },
    "tags": []
   },
   "source": [
    "### We will be dropping the missing values from this column\n"
   ]
  },
  {
   "cell_type": "code",
   "execution_count": null,
   "id": "c14e3790",
   "metadata": {
    "execution": {
     "iopub.execute_input": "2023-01-03T02:01:47.564536Z",
     "iopub.status.busy": "2023-01-03T02:01:47.563759Z",
     "iopub.status.idle": "2023-01-03T02:01:47.675127Z",
     "shell.execute_reply": "2023-01-03T02:01:47.674064Z"
    },
    "papermill": {
     "duration": 0.138545,
     "end_time": "2023-01-03T02:01:47.677200",
     "exception": false,
     "start_time": "2023-01-03T02:01:47.538655",
     "status": "completed"
    },
    "tags": []
   },
   "outputs": [],
   "source": [
    "df = df[df[\"hypertension\"]<97]\n",
    "df.shape"
   ]
  },
  {
   "cell_type": "markdown",
   "id": "376ac15b",
   "metadata": {
    "papermill": {
     "duration": 0.0243,
     "end_time": "2023-01-03T02:01:47.726582",
     "exception": false,
     "start_time": "2023-01-03T02:01:47.702282",
     "status": "completed"
    },
    "tags": []
   },
   "source": [
    "# 9. \"other_diseases\""
   ]
  },
  {
   "cell_type": "code",
   "execution_count": null,
   "id": "ee66db31",
   "metadata": {
    "execution": {
     "iopub.execute_input": "2023-01-03T02:01:47.778381Z",
     "iopub.status.busy": "2023-01-03T02:01:47.777485Z",
     "iopub.status.idle": "2023-01-03T02:01:47.787354Z",
     "shell.execute_reply": "2023-01-03T02:01:47.786270Z"
    },
    "papermill": {
     "duration": 0.03735,
     "end_time": "2023-01-03T02:01:47.789287",
     "exception": false,
     "start_time": "2023-01-03T02:01:47.751937",
     "status": "completed"
    },
    "tags": []
   },
   "outputs": [],
   "source": [
    "len(df[df[\"other_disease\"]>=97])"
   ]
  },
  {
   "cell_type": "markdown",
   "id": "504964d6",
   "metadata": {
    "papermill": {
     "duration": 0.025177,
     "end_time": "2023-01-03T02:01:47.840544",
     "exception": false,
     "start_time": "2023-01-03T02:01:47.815367",
     "status": "completed"
    },
    "tags": []
   },
   "source": [
    "### We will be dropping the missing values from this column\n"
   ]
  },
  {
   "cell_type": "code",
   "execution_count": null,
   "id": "ef409011",
   "metadata": {
    "execution": {
     "iopub.execute_input": "2023-01-03T02:01:47.891473Z",
     "iopub.status.busy": "2023-01-03T02:01:47.890689Z",
     "iopub.status.idle": "2023-01-03T02:01:47.999965Z",
     "shell.execute_reply": "2023-01-03T02:01:47.998977Z"
    },
    "papermill": {
     "duration": 0.137033,
     "end_time": "2023-01-03T02:01:48.002237",
     "exception": false,
     "start_time": "2023-01-03T02:01:47.865204",
     "status": "completed"
    },
    "tags": []
   },
   "outputs": [],
   "source": [
    "df = df[df[\"other_disease\"]<97]\n",
    "df.shape"
   ]
  },
  {
   "cell_type": "markdown",
   "id": "c07f5afb",
   "metadata": {
    "papermill": {
     "duration": 0.024437,
     "end_time": "2023-01-03T02:01:48.051813",
     "exception": false,
     "start_time": "2023-01-03T02:01:48.027376",
     "status": "completed"
    },
    "tags": []
   },
   "source": [
    "# 10. \"cardiovascular\""
   ]
  },
  {
   "cell_type": "code",
   "execution_count": null,
   "id": "9be13934",
   "metadata": {
    "execution": {
     "iopub.execute_input": "2023-01-03T02:01:48.104270Z",
     "iopub.status.busy": "2023-01-03T02:01:48.102501Z",
     "iopub.status.idle": "2023-01-03T02:01:48.112216Z",
     "shell.execute_reply": "2023-01-03T02:01:48.111195Z"
    },
    "papermill": {
     "duration": 0.0377,
     "end_time": "2023-01-03T02:01:48.114320",
     "exception": false,
     "start_time": "2023-01-03T02:01:48.076620",
     "status": "completed"
    },
    "tags": []
   },
   "outputs": [],
   "source": [
    "len(df[df[\"cardiovascular\"]>=97])\n",
    "\n"
   ]
  },
  {
   "cell_type": "markdown",
   "id": "2d8a33c6",
   "metadata": {
    "papermill": {
     "duration": 0.024983,
     "end_time": "2023-01-03T02:01:48.163893",
     "exception": false,
     "start_time": "2023-01-03T02:01:48.138910",
     "status": "completed"
    },
    "tags": []
   },
   "source": [
    "### We will be dropping the missing values from this column\n"
   ]
  },
  {
   "cell_type": "code",
   "execution_count": null,
   "id": "7b4c333a",
   "metadata": {
    "execution": {
     "iopub.execute_input": "2023-01-03T02:01:48.216296Z",
     "iopub.status.busy": "2023-01-03T02:01:48.214841Z",
     "iopub.status.idle": "2023-01-03T02:01:48.324784Z",
     "shell.execute_reply": "2023-01-03T02:01:48.323807Z"
    },
    "papermill": {
     "duration": 0.138105,
     "end_time": "2023-01-03T02:01:48.327028",
     "exception": false,
     "start_time": "2023-01-03T02:01:48.188923",
     "status": "completed"
    },
    "scrolled": true,
    "tags": []
   },
   "outputs": [],
   "source": [
    "df = df[df[\"cardiovascular\"]<97]\n",
    "df.shape"
   ]
  },
  {
   "cell_type": "markdown",
   "id": "bf948463",
   "metadata": {
    "papermill": {
     "duration": 0.02935,
     "end_time": "2023-01-03T02:01:48.382827",
     "exception": false,
     "start_time": "2023-01-03T02:01:48.353477",
     "status": "completed"
    },
    "tags": []
   },
   "source": [
    "# 11. \"obesity\""
   ]
  },
  {
   "cell_type": "code",
   "execution_count": null,
   "id": "5988f269",
   "metadata": {
    "execution": {
     "iopub.execute_input": "2023-01-03T02:01:48.433897Z",
     "iopub.status.busy": "2023-01-03T02:01:48.433582Z",
     "iopub.status.idle": "2023-01-03T02:01:48.442499Z",
     "shell.execute_reply": "2023-01-03T02:01:48.441443Z"
    },
    "papermill": {
     "duration": 0.036435,
     "end_time": "2023-01-03T02:01:48.444564",
     "exception": false,
     "start_time": "2023-01-03T02:01:48.408129",
     "status": "completed"
    },
    "tags": []
   },
   "outputs": [],
   "source": [
    "len(df[df[\"obesity\"]>=97])"
   ]
  },
  {
   "cell_type": "markdown",
   "id": "e8c0da61",
   "metadata": {
    "papermill": {
     "duration": 0.024411,
     "end_time": "2023-01-03T02:01:48.493754",
     "exception": false,
     "start_time": "2023-01-03T02:01:48.469343",
     "status": "completed"
    },
    "tags": []
   },
   "source": [
    "### We will be dropping the missing values from this column"
   ]
  },
  {
   "cell_type": "code",
   "execution_count": null,
   "id": "56a5293e",
   "metadata": {
    "execution": {
     "iopub.execute_input": "2023-01-03T02:01:48.544979Z",
     "iopub.status.busy": "2023-01-03T02:01:48.544226Z",
     "iopub.status.idle": "2023-01-03T02:01:48.654486Z",
     "shell.execute_reply": "2023-01-03T02:01:48.653586Z"
    },
    "papermill": {
     "duration": 0.138054,
     "end_time": "2023-01-03T02:01:48.656576",
     "exception": false,
     "start_time": "2023-01-03T02:01:48.518522",
     "status": "completed"
    },
    "tags": []
   },
   "outputs": [],
   "source": [
    "df = df[df[\"obesity\"]<97]\n",
    "df.shape"
   ]
  },
  {
   "cell_type": "markdown",
   "id": "804934f7",
   "metadata": {
    "papermill": {
     "duration": 0.025116,
     "end_time": "2023-01-03T02:01:48.707698",
     "exception": false,
     "start_time": "2023-01-03T02:01:48.682582",
     "status": "completed"
    },
    "tags": []
   },
   "source": [
    "# 12. \"renal_chronic\""
   ]
  },
  {
   "cell_type": "code",
   "execution_count": null,
   "id": "3b17c313",
   "metadata": {
    "execution": {
     "iopub.execute_input": "2023-01-03T02:01:48.759398Z",
     "iopub.status.busy": "2023-01-03T02:01:48.759069Z",
     "iopub.status.idle": "2023-01-03T02:01:48.768999Z",
     "shell.execute_reply": "2023-01-03T02:01:48.767965Z"
    },
    "papermill": {
     "duration": 0.038365,
     "end_time": "2023-01-03T02:01:48.771123",
     "exception": false,
     "start_time": "2023-01-03T02:01:48.732758",
     "status": "completed"
    },
    "tags": []
   },
   "outputs": [],
   "source": [
    "len(df[df[\"renal_chronic\"]>=97])"
   ]
  },
  {
   "cell_type": "markdown",
   "id": "8d7dfeb0",
   "metadata": {
    "papermill": {
     "duration": 0.026067,
     "end_time": "2023-01-03T02:01:48.822466",
     "exception": false,
     "start_time": "2023-01-03T02:01:48.796399",
     "status": "completed"
    },
    "tags": []
   },
   "source": [
    "### We will be dropping the missing values from this column"
   ]
  },
  {
   "cell_type": "code",
   "execution_count": null,
   "id": "60fd1454",
   "metadata": {
    "execution": {
     "iopub.execute_input": "2023-01-03T02:01:48.877410Z",
     "iopub.status.busy": "2023-01-03T02:01:48.877111Z",
     "iopub.status.idle": "2023-01-03T02:01:48.989177Z",
     "shell.execute_reply": "2023-01-03T02:01:48.988181Z"
    },
    "papermill": {
     "duration": 0.143718,
     "end_time": "2023-01-03T02:01:48.991581",
     "exception": false,
     "start_time": "2023-01-03T02:01:48.847863",
     "status": "completed"
    },
    "tags": []
   },
   "outputs": [],
   "source": [
    "df = df[df[\"renal_chronic\"]<97]\n",
    "df.shape"
   ]
  },
  {
   "cell_type": "markdown",
   "id": "6d9dc521",
   "metadata": {
    "papermill": {
     "duration": 0.026563,
     "end_time": "2023-01-03T02:01:49.045068",
     "exception": false,
     "start_time": "2023-01-03T02:01:49.018505",
     "status": "completed"
    },
    "tags": []
   },
   "source": [
    "# 13. \"tobacco\""
   ]
  },
  {
   "cell_type": "code",
   "execution_count": null,
   "id": "9e3c1a05",
   "metadata": {
    "execution": {
     "iopub.execute_input": "2023-01-03T02:01:49.100947Z",
     "iopub.status.busy": "2023-01-03T02:01:49.099286Z",
     "iopub.status.idle": "2023-01-03T02:01:49.109019Z",
     "shell.execute_reply": "2023-01-03T02:01:49.108092Z"
    },
    "papermill": {
     "duration": 0.039218,
     "end_time": "2023-01-03T02:01:49.110981",
     "exception": false,
     "start_time": "2023-01-03T02:01:49.071763",
     "status": "completed"
    },
    "tags": []
   },
   "outputs": [],
   "source": [
    "len(df[df[\"tobacco\"]>=97])"
   ]
  },
  {
   "cell_type": "markdown",
   "id": "6d3e13f4",
   "metadata": {
    "papermill": {
     "duration": 0.025118,
     "end_time": "2023-01-03T02:01:49.161530",
     "exception": false,
     "start_time": "2023-01-03T02:01:49.136412",
     "status": "completed"
    },
    "tags": []
   },
   "source": [
    "### We will be dropping the missing values from this column"
   ]
  },
  {
   "cell_type": "code",
   "execution_count": null,
   "id": "5abc3975",
   "metadata": {
    "execution": {
     "iopub.execute_input": "2023-01-03T02:01:49.214234Z",
     "iopub.status.busy": "2023-01-03T02:01:49.212794Z",
     "iopub.status.idle": "2023-01-03T02:01:49.322490Z",
     "shell.execute_reply": "2023-01-03T02:01:49.321337Z"
    },
    "papermill": {
     "duration": 0.138654,
     "end_time": "2023-01-03T02:01:49.325172",
     "exception": false,
     "start_time": "2023-01-03T02:01:49.186518",
     "status": "completed"
    },
    "tags": []
   },
   "outputs": [],
   "source": [
    "df = df[df[\"tobacco\"]<97]\n",
    "df.shape"
   ]
  },
  {
   "cell_type": "markdown",
   "id": "9f3b803e",
   "metadata": {
    "papermill": {
     "duration": 0.025137,
     "end_time": "2023-01-03T02:01:49.376123",
     "exception": false,
     "start_time": "2023-01-03T02:01:49.350986",
     "status": "completed"
    },
    "tags": []
   },
   "source": [
    "# 14. \"icu\""
   ]
  },
  {
   "cell_type": "code",
   "execution_count": null,
   "id": "83354a77",
   "metadata": {
    "execution": {
     "iopub.execute_input": "2023-01-03T02:01:49.438122Z",
     "iopub.status.busy": "2023-01-03T02:01:49.434759Z",
     "iopub.status.idle": "2023-01-03T02:01:49.561860Z",
     "shell.execute_reply": "2023-01-03T02:01:49.559125Z"
    },
    "papermill": {
     "duration": 0.163524,
     "end_time": "2023-01-03T02:01:49.564881",
     "exception": false,
     "start_time": "2023-01-03T02:01:49.401357",
     "status": "completed"
    },
    "tags": []
   },
   "outputs": [],
   "source": [
    "len(df[df[\"icu\"]>=97])"
   ]
  },
  {
   "cell_type": "markdown",
   "id": "efd0e428",
   "metadata": {
    "papermill": {
     "duration": 0.040181,
     "end_time": "2023-01-03T02:01:49.650595",
     "exception": false,
     "start_time": "2023-01-03T02:01:49.610414",
     "status": "completed"
    },
    "tags": []
   },
   "source": [
    "### We will be dropping the \"icu\" column as above 80% of the record contains missing data."
   ]
  },
  {
   "cell_type": "code",
   "execution_count": null,
   "id": "44f43bf9",
   "metadata": {
    "execution": {
     "iopub.execute_input": "2023-01-03T02:01:49.738830Z",
     "iopub.status.busy": "2023-01-03T02:01:49.738405Z",
     "iopub.status.idle": "2023-01-03T02:01:49.814978Z",
     "shell.execute_reply": "2023-01-03T02:01:49.813842Z"
    },
    "papermill": {
     "duration": 0.129618,
     "end_time": "2023-01-03T02:01:49.817937",
     "exception": false,
     "start_time": "2023-01-03T02:01:49.688319",
     "status": "completed"
    },
    "tags": []
   },
   "outputs": [],
   "source": [
    "df.drop(\"icu\", axis=1, inplace=True)"
   ]
  },
  {
   "cell_type": "markdown",
   "id": "3e7b78c3",
   "metadata": {
    "papermill": {
     "duration": 0.060064,
     "end_time": "2023-01-03T02:01:49.919768",
     "exception": false,
     "start_time": "2023-01-03T02:01:49.859704",
     "status": "completed"
    },
    "tags": []
   },
   "source": [
    "# Bravo! We are dpme removing missing data\n",
    "#### Now let us see the new shape of our data"
   ]
  },
  {
   "cell_type": "code",
   "execution_count": null,
   "id": "92adafac",
   "metadata": {
    "execution": {
     "iopub.execute_input": "2023-01-03T02:01:50.017254Z",
     "iopub.status.busy": "2023-01-03T02:01:50.016756Z",
     "iopub.status.idle": "2023-01-03T02:01:50.026582Z",
     "shell.execute_reply": "2023-01-03T02:01:50.024621Z"
    },
    "papermill": {
     "duration": 0.060864,
     "end_time": "2023-01-03T02:01:50.037541",
     "exception": false,
     "start_time": "2023-01-03T02:01:49.976677",
     "status": "completed"
    },
    "scrolled": true,
    "tags": []
   },
   "outputs": [],
   "source": [
    "df.shape"
   ]
  },
  {
   "cell_type": "markdown",
   "id": "f3a99277",
   "metadata": {
    "papermill": {
     "duration": 0.051943,
     "end_time": "2023-01-03T02:01:50.141155",
     "exception": false,
     "start_time": "2023-01-03T02:01:50.089212",
     "status": "completed"
    },
    "tags": []
   },
   "source": [
    "### We can see that our data changed from (1048575, 21) to (1026832, 18). Now lets take a peek at the unique values of each columns of our dataset.\n"
   ]
  },
  {
   "cell_type": "code",
   "execution_count": null,
   "id": "b0a265ca",
   "metadata": {
    "execution": {
     "iopub.execute_input": "2023-01-03T02:01:50.293501Z",
     "iopub.status.busy": "2023-01-03T02:01:50.293092Z",
     "iopub.status.idle": "2023-01-03T02:01:50.796848Z",
     "shell.execute_reply": "2023-01-03T02:01:50.795923Z"
    },
    "papermill": {
     "duration": 0.59028,
     "end_time": "2023-01-03T02:01:50.799663",
     "exception": false,
     "start_time": "2023-01-03T02:01:50.209383",
     "status": "completed"
    },
    "tags": []
   },
   "outputs": [],
   "source": [
    "for col in df.columns:\n",
    "    print(f\"{col}--{df[col].nunique()}\")"
   ]
  },
  {
   "cell_type": "markdown",
   "id": "e35587f9",
   "metadata": {
    "papermill": {
     "duration": 0.048617,
     "end_time": "2023-01-03T02:01:50.892816",
     "exception": false,
     "start_time": "2023-01-03T02:01:50.844199",
     "status": "completed"
    },
    "tags": []
   },
   "source": [
    "### Bravo! We are now good to go!"
   ]
  },
  {
   "cell_type": "code",
   "execution_count": null,
   "id": "48a0b099",
   "metadata": {
    "execution": {
     "iopub.execute_input": "2023-01-03T02:01:50.947840Z",
     "iopub.status.busy": "2023-01-03T02:01:50.947498Z",
     "iopub.status.idle": "2023-01-03T02:01:50.961942Z",
     "shell.execute_reply": "2023-01-03T02:01:50.960907Z"
    },
    "papermill": {
     "duration": 0.044946,
     "end_time": "2023-01-03T02:01:50.964057",
     "exception": false,
     "start_time": "2023-01-03T02:01:50.919111",
     "status": "completed"
    },
    "tags": []
   },
   "outputs": [],
   "source": [
    "df.head()"
   ]
  },
  {
   "cell_type": "markdown",
   "id": "e6b4746b",
   "metadata": {
    "papermill": {
     "duration": 0.026004,
     "end_time": "2023-01-03T02:01:51.017144",
     "exception": false,
     "start_time": "2023-01-03T02:01:50.991140",
     "status": "completed"
    },
    "tags": []
   },
   "source": [
    "## Notice the date column. We need to change"
   ]
  },
  {
   "cell_type": "code",
   "execution_count": null,
   "id": "44e5be9c",
   "metadata": {
    "execution": {
     "iopub.execute_input": "2023-01-03T02:01:51.070272Z",
     "iopub.status.busy": "2023-01-03T02:01:51.069471Z",
     "iopub.status.idle": "2023-01-03T02:01:51.134638Z",
     "shell.execute_reply": "2023-01-03T02:01:51.133585Z"
    },
    "papermill": {
     "duration": 0.093697,
     "end_time": "2023-01-03T02:01:51.136776",
     "exception": false,
     "start_time": "2023-01-03T02:01:51.043079",
     "status": "completed"
    },
    "tags": []
   },
   "outputs": [],
   "source": [
    "df.date_died.unique()[0:50]"
   ]
  },
  {
   "cell_type": "code",
   "execution_count": null,
   "id": "1a245948",
   "metadata": {
    "execution": {
     "iopub.execute_input": "2023-01-03T02:01:51.190406Z",
     "iopub.status.busy": "2023-01-03T02:01:51.190126Z",
     "iopub.status.idle": "2023-01-03T02:01:51.249846Z",
     "shell.execute_reply": "2023-01-03T02:01:51.248838Z"
    },
    "papermill": {
     "duration": 0.088658,
     "end_time": "2023-01-03T02:01:51.251919",
     "exception": false,
     "start_time": "2023-01-03T02:01:51.163261",
     "status": "completed"
    },
    "tags": []
   },
   "outputs": [],
   "source": [
    "df.date_died.value_counts()"
   ]
  },
  {
   "cell_type": "markdown",
   "id": "0e443873",
   "metadata": {
    "papermill": {
     "duration": 0.026131,
     "end_time": "2023-01-03T02:01:51.304106",
     "exception": false,
     "start_time": "2023-01-03T02:01:51.277975",
     "status": "completed"
    },
    "tags": []
   },
   "source": [
    "### Remember from the column definitions, we mentioned that values '9999-99-99' means that the patient survived, while every other dates means that the patient died. Now we will represent all '9999-99-99' to 1 representing survive while the value, 0, will represent death. This is so because this is a binary classification problem."
   ]
  },
  {
   "cell_type": "code",
   "execution_count": null,
   "id": "93ab9d99",
   "metadata": {
    "execution": {
     "iopub.execute_input": "2023-01-03T02:01:51.358403Z",
     "iopub.status.busy": "2023-01-03T02:01:51.358120Z",
     "iopub.status.idle": "2023-01-03T02:01:51.686993Z",
     "shell.execute_reply": "2023-01-03T02:01:51.685978Z"
    },
    "papermill": {
     "duration": 0.35873,
     "end_time": "2023-01-03T02:01:51.689630",
     "exception": false,
     "start_time": "2023-01-03T02:01:51.330900",
     "status": "completed"
    },
    "tags": []
   },
   "outputs": [],
   "source": [
    "df[\"death\"] = [1 if row=='9999-99-99' else 0 for row in df[\"date_died\"]]"
   ]
  },
  {
   "cell_type": "code",
   "execution_count": null,
   "id": "fa52ae25",
   "metadata": {
    "execution": {
     "iopub.execute_input": "2023-01-03T02:01:51.745536Z",
     "iopub.status.busy": "2023-01-03T02:01:51.744840Z",
     "iopub.status.idle": "2023-01-03T02:01:51.761820Z",
     "shell.execute_reply": "2023-01-03T02:01:51.760591Z"
    },
    "papermill": {
     "duration": 0.047646,
     "end_time": "2023-01-03T02:01:51.764536",
     "exception": false,
     "start_time": "2023-01-03T02:01:51.716890",
     "status": "completed"
    },
    "scrolled": true,
    "tags": []
   },
   "outputs": [],
   "source": [
    "df[\"death\"].value_counts()"
   ]
  },
  {
   "cell_type": "markdown",
   "id": "2f3b4c87",
   "metadata": {
    "papermill": {
     "duration": 0.030495,
     "end_time": "2023-01-03T02:01:51.825942",
     "exception": false,
     "start_time": "2023-01-03T02:01:51.795447",
     "status": "completed"
    },
    "tags": []
   },
   "source": [
    "### BRAVO !"
   ]
  },
  {
   "cell_type": "code",
   "execution_count": null,
   "id": "c49d4509",
   "metadata": {
    "execution": {
     "iopub.execute_input": "2023-01-03T02:01:51.884283Z",
     "iopub.status.busy": "2023-01-03T02:01:51.883960Z",
     "iopub.status.idle": "2023-01-03T02:01:51.898248Z",
     "shell.execute_reply": "2023-01-03T02:01:51.897361Z"
    },
    "papermill": {
     "duration": 0.045442,
     "end_time": "2023-01-03T02:01:51.900799",
     "exception": false,
     "start_time": "2023-01-03T02:01:51.855357",
     "status": "completed"
    },
    "tags": []
   },
   "outputs": [],
   "source": [
    "df.head()"
   ]
  },
  {
   "cell_type": "code",
   "execution_count": null,
   "id": "622a9b12",
   "metadata": {
    "execution": {
     "iopub.execute_input": "2023-01-03T02:01:51.955558Z",
     "iopub.status.busy": "2023-01-03T02:01:51.955271Z",
     "iopub.status.idle": "2023-01-03T02:01:51.960854Z",
     "shell.execute_reply": "2023-01-03T02:01:51.959950Z"
    },
    "papermill": {
     "duration": 0.034899,
     "end_time": "2023-01-03T02:01:51.963178",
     "exception": false,
     "start_time": "2023-01-03T02:01:51.928279",
     "status": "completed"
    },
    "tags": []
   },
   "outputs": [],
   "source": [
    "df.shape"
   ]
  },
  {
   "cell_type": "markdown",
   "id": "1beb92c2",
   "metadata": {
    "papermill": {
     "duration": 0.026006,
     "end_time": "2023-01-03T02:01:52.015601",
     "exception": false,
     "start_time": "2023-01-03T02:01:51.989595",
     "status": "completed"
    },
    "tags": []
   },
   "source": [
    "# Dropping the \"date_died\" column"
   ]
  },
  {
   "cell_type": "code",
   "execution_count": null,
   "id": "0d02f12a",
   "metadata": {
    "execution": {
     "iopub.execute_input": "2023-01-03T02:01:52.069841Z",
     "iopub.status.busy": "2023-01-03T02:01:52.069577Z",
     "iopub.status.idle": "2023-01-03T02:01:52.226920Z",
     "shell.execute_reply": "2023-01-03T02:01:52.225100Z"
    },
    "papermill": {
     "duration": 0.187103,
     "end_time": "2023-01-03T02:01:52.229097",
     "exception": false,
     "start_time": "2023-01-03T02:01:52.041994",
     "status": "completed"
    },
    "scrolled": true,
    "tags": []
   },
   "outputs": [],
   "source": [
    "df.drop(\"date_died\", axis=1, inplace=True)\n",
    "df.head()"
   ]
  },
  {
   "cell_type": "code",
   "execution_count": null,
   "id": "b28b86ff",
   "metadata": {
    "execution": {
     "iopub.execute_input": "2023-01-03T02:01:52.291588Z",
     "iopub.status.busy": "2023-01-03T02:01:52.291280Z",
     "iopub.status.idle": "2023-01-03T02:01:52.297157Z",
     "shell.execute_reply": "2023-01-03T02:01:52.296236Z"
    },
    "papermill": {
     "duration": 0.036751,
     "end_time": "2023-01-03T02:01:52.299256",
     "exception": false,
     "start_time": "2023-01-03T02:01:52.262505",
     "status": "completed"
    },
    "tags": []
   },
   "outputs": [],
   "source": [
    "df.shape"
   ]
  },
  {
   "cell_type": "markdown",
   "id": "86953714",
   "metadata": {
    "papermill": {
     "duration": 0.026892,
     "end_time": "2023-01-03T02:01:52.352614",
     "exception": false,
     "start_time": "2023-01-03T02:01:52.325722",
     "status": "completed"
    },
    "tags": []
   },
   "source": [
    "# Getting the statistical description of our dataset"
   ]
  },
  {
   "cell_type": "code",
   "execution_count": null,
   "id": "63a0a9ea",
   "metadata": {
    "execution": {
     "iopub.execute_input": "2023-01-03T02:01:52.407881Z",
     "iopub.status.busy": "2023-01-03T02:01:52.407088Z",
     "iopub.status.idle": "2023-01-03T02:01:52.773864Z",
     "shell.execute_reply": "2023-01-03T02:01:52.772915Z"
    },
    "papermill": {
     "duration": 0.396763,
     "end_time": "2023-01-03T02:01:52.775932",
     "exception": false,
     "start_time": "2023-01-03T02:01:52.379169",
     "status": "completed"
    },
    "scrolled": true,
    "tags": []
   },
   "outputs": [],
   "source": [
    "df.describe()"
   ]
  },
  {
   "cell_type": "markdown",
   "id": "fec8c6ea",
   "metadata": {
    "papermill": {
     "duration": 0.028558,
     "end_time": "2023-01-03T02:01:52.832246",
     "exception": false,
     "start_time": "2023-01-03T02:01:52.803688",
     "status": "completed"
    },
    "tags": []
   },
   "source": [
    "# Checking for Outliers\n",
    "### Outliers here can only exist in the \"age\" column."
   ]
  },
  {
   "cell_type": "code",
   "execution_count": null,
   "id": "8b234273",
   "metadata": {
    "execution": {
     "iopub.execute_input": "2023-01-03T02:01:52.887314Z",
     "iopub.status.busy": "2023-01-03T02:01:52.886968Z",
     "iopub.status.idle": "2023-01-03T02:01:56.192683Z",
     "shell.execute_reply": "2023-01-03T02:01:56.191173Z"
    },
    "papermill": {
     "duration": 3.635344,
     "end_time": "2023-01-03T02:01:56.494322",
     "exception": false,
     "start_time": "2023-01-03T02:01:52.858978",
     "status": "completed"
    },
    "tags": []
   },
   "outputs": [],
   "source": [
    "fig = px.box(df[\"age\"], height=600)\n",
    "fig.show()"
   ]
  },
  {
   "cell_type": "markdown",
   "id": "84e5c525",
   "metadata": {
    "papermill": {
     "duration": 0.126855,
     "end_time": "2023-01-03T02:01:56.745437",
     "exception": false,
     "start_time": "2023-01-03T02:01:56.618582",
     "status": "completed"
    },
    "tags": []
   },
   "source": [
    "# We will dropping ages above 110"
   ]
  },
  {
   "cell_type": "code",
   "execution_count": null,
   "id": "a9709e99",
   "metadata": {
    "execution": {
     "iopub.execute_input": "2023-01-03T02:01:57.013938Z",
     "iopub.status.busy": "2023-01-03T02:01:57.013424Z",
     "iopub.status.idle": "2023-01-03T02:01:57.023524Z",
     "shell.execute_reply": "2023-01-03T02:01:57.022489Z"
    },
    "papermill": {
     "duration": 0.148328,
     "end_time": "2023-01-03T02:01:57.025572",
     "exception": false,
     "start_time": "2023-01-03T02:01:56.877244",
     "status": "completed"
    },
    "tags": []
   },
   "outputs": [],
   "source": [
    "len(df[df[\"age\"]>=110])"
   ]
  },
  {
   "cell_type": "code",
   "execution_count": null,
   "id": "527414be",
   "metadata": {
    "execution": {
     "iopub.execute_input": "2023-01-03T02:01:57.281415Z",
     "iopub.status.busy": "2023-01-03T02:01:57.280501Z",
     "iopub.status.idle": "2023-01-03T02:01:57.289368Z",
     "shell.execute_reply": "2023-01-03T02:01:57.288244Z"
    },
    "papermill": {
     "duration": 0.142142,
     "end_time": "2023-01-03T02:01:57.292027",
     "exception": false,
     "start_time": "2023-01-03T02:01:57.149885",
     "status": "completed"
    },
    "tags": []
   },
   "outputs": [],
   "source": [
    "df.shape"
   ]
  },
  {
   "cell_type": "code",
   "execution_count": null,
   "id": "b7d3d7e3",
   "metadata": {
    "execution": {
     "iopub.execute_input": "2023-01-03T02:01:57.552430Z",
     "iopub.status.busy": "2023-01-03T02:01:57.551873Z",
     "iopub.status.idle": "2023-01-03T02:01:57.645791Z",
     "shell.execute_reply": "2023-01-03T02:01:57.644803Z"
    },
    "papermill": {
     "duration": 0.229077,
     "end_time": "2023-01-03T02:01:57.647930",
     "exception": false,
     "start_time": "2023-01-03T02:01:57.418853",
     "status": "completed"
    },
    "tags": []
   },
   "outputs": [],
   "source": [
    "df = df[df[\"age\"]<=100]\n",
    "df.shape"
   ]
  },
  {
   "cell_type": "markdown",
   "id": "bed3325e",
   "metadata": {
    "papermill": {
     "duration": 0.128774,
     "end_time": "2023-01-03T02:01:57.902698",
     "exception": false,
     "start_time": "2023-01-03T02:01:57.773924",
     "status": "completed"
    },
    "tags": []
   },
   "source": [
    "# Checking for Correlation between features of our data"
   ]
  },
  {
   "cell_type": "code",
   "execution_count": null,
   "id": "54701923",
   "metadata": {
    "execution": {
     "iopub.execute_input": "2023-01-03T02:01:58.161787Z",
     "iopub.status.busy": "2023-01-03T02:01:58.161208Z",
     "iopub.status.idle": "2023-01-03T02:02:01.609874Z",
     "shell.execute_reply": "2023-01-03T02:02:01.608725Z"
    },
    "papermill": {
     "duration": 3.581049,
     "end_time": "2023-01-03T02:02:01.612816",
     "exception": false,
     "start_time": "2023-01-03T02:01:58.031767",
     "status": "completed"
    },
    "tags": []
   },
   "outputs": [],
   "source": [
    "# importing seaborn\n",
    "import seaborn as sns\n",
    "import matplotlib.pyplot as plt\n",
    "\n",
    "plt.figure(figsize=(18, 15))\n",
    "correlation = df.corr()\n",
    "sns.heatmap(correlation, annot=True, fmt=\".2f\")"
   ]
  },
  {
   "cell_type": "markdown",
   "id": "639e3217",
   "metadata": {
    "papermill": {
     "duration": 0.12636,
     "end_time": "2023-01-03T02:02:01.952666",
     "exception": false,
     "start_time": "2023-01-03T02:02:01.826306",
     "status": "completed"
    },
    "tags": []
   },
   "source": [
    "# Selecting Features and Target from our Dataset\n",
    "### The \"death\" column will be our target variable since we are to make predictions on it."
   ]
  },
  {
   "cell_type": "code",
   "execution_count": null,
   "id": "7b4afd40",
   "metadata": {
    "execution": {
     "iopub.execute_input": "2023-01-03T02:02:02.240796Z",
     "iopub.status.busy": "2023-01-03T02:02:02.240208Z",
     "iopub.status.idle": "2023-01-03T02:02:02.296257Z",
     "shell.execute_reply": "2023-01-03T02:02:02.295106Z"
    },
    "papermill": {
     "duration": 0.203085,
     "end_time": "2023-01-03T02:02:02.298537",
     "exception": false,
     "start_time": "2023-01-03T02:02:02.095452",
     "status": "completed"
    },
    "tags": []
   },
   "outputs": [],
   "source": [
    "X = df.drop(\"death\", axis=1)\n",
    "y = df[\"death\"]\n"
   ]
  },
  {
   "cell_type": "markdown",
   "id": "cffa2925",
   "metadata": {
    "papermill": {
     "duration": 0.134804,
     "end_time": "2023-01-03T02:02:02.569876",
     "exception": false,
     "start_time": "2023-01-03T02:02:02.435072",
     "status": "completed"
    },
    "tags": []
   },
   "source": [
    "# Standardizing the features of our dataset"
   ]
  },
  {
   "cell_type": "code",
   "execution_count": null,
   "id": "74d91973",
   "metadata": {
    "execution": {
     "iopub.execute_input": "2023-01-03T02:02:02.839132Z",
     "iopub.status.busy": "2023-01-03T02:02:02.838550Z",
     "iopub.status.idle": "2023-01-03T02:02:03.214564Z",
     "shell.execute_reply": "2023-01-03T02:02:03.213331Z"
    },
    "papermill": {
     "duration": 0.513792,
     "end_time": "2023-01-03T02:02:03.217443",
     "exception": false,
     "start_time": "2023-01-03T02:02:02.703651",
     "status": "completed"
    },
    "tags": []
   },
   "outputs": [],
   "source": [
    "from sklearn.preprocessing import StandardScaler\n",
    "scaler = StandardScaler()\n",
    "X = scaler.fit_transform(X)"
   ]
  },
  {
   "cell_type": "code",
   "execution_count": null,
   "id": "cfe1ffcb",
   "metadata": {
    "execution": {
     "iopub.execute_input": "2023-01-03T02:02:03.488849Z",
     "iopub.status.busy": "2023-01-03T02:02:03.488482Z",
     "iopub.status.idle": "2023-01-03T02:02:03.496244Z",
     "shell.execute_reply": "2023-01-03T02:02:03.495178Z"
    },
    "papermill": {
     "duration": 0.145605,
     "end_time": "2023-01-03T02:02:03.498376",
     "exception": false,
     "start_time": "2023-01-03T02:02:03.352771",
     "status": "completed"
    },
    "tags": []
   },
   "outputs": [],
   "source": [
    "y"
   ]
  },
  {
   "cell_type": "markdown",
   "id": "4c942abb",
   "metadata": {
    "papermill": {
     "duration": 0.129763,
     "end_time": "2023-01-03T02:02:03.760313",
     "exception": false,
     "start_time": "2023-01-03T02:02:03.630550",
     "status": "completed"
    },
    "tags": []
   },
   "source": [
    "# Splitting our Dataset"
   ]
  },
  {
   "cell_type": "code",
   "execution_count": null,
   "id": "1b16270d",
   "metadata": {
    "execution": {
     "iopub.execute_input": "2023-01-03T02:02:04.023896Z",
     "iopub.status.busy": "2023-01-03T02:02:04.023528Z",
     "iopub.status.idle": "2023-01-03T02:02:04.338524Z",
     "shell.execute_reply": "2023-01-03T02:02:04.337466Z"
    },
    "papermill": {
     "duration": 0.450638,
     "end_time": "2023-01-03T02:02:04.341110",
     "exception": false,
     "start_time": "2023-01-03T02:02:03.890472",
     "status": "completed"
    },
    "tags": []
   },
   "outputs": [],
   "source": [
    "from sklearn.model_selection import train_test_split\n",
    "\n",
    "X_train, X_valid, y_train, y_valid = train_test_split(X, y, train_size=0.8, random_state=12)"
   ]
  },
  {
   "cell_type": "code",
   "execution_count": null,
   "id": "8058dfe7",
   "metadata": {
    "execution": {
     "iopub.execute_input": "2023-01-03T02:02:04.601063Z",
     "iopub.status.busy": "2023-01-03T02:02:04.600487Z",
     "iopub.status.idle": "2023-01-03T02:02:04.609570Z",
     "shell.execute_reply": "2023-01-03T02:02:04.608101Z"
    },
    "papermill": {
     "duration": 0.143765,
     "end_time": "2023-01-03T02:02:04.611728",
     "exception": false,
     "start_time": "2023-01-03T02:02:04.467963",
     "status": "completed"
    },
    "tags": []
   },
   "outputs": [],
   "source": [
    "print(\"X_train\", X_train.shape)\n",
    "print(\"X_valid\", X_valid.shape)\n",
    "print(\"y_train\", y_train.shape)\n",
    "print(\"y_valid\", y_valid.shape)"
   ]
  },
  {
   "cell_type": "markdown",
   "id": "6781a446",
   "metadata": {
    "papermill": {
     "duration": 0.131168,
     "end_time": "2023-01-03T02:02:04.870104",
     "exception": false,
     "start_time": "2023-01-03T02:02:04.738936",
     "status": "completed"
    },
    "tags": []
   },
   "source": [
    "# Machine Learning  (Classification)\n",
    "### We will be making use of the following classification algorithms\n",
    "1. XGBoost \n",
    "2. Logistic Regression\n",
    "3. Random Forest \n"
   ]
  },
  {
   "cell_type": "code",
   "execution_count": null,
   "id": "1e8aa1d8",
   "metadata": {
    "execution": {
     "iopub.execute_input": "2023-01-03T02:02:05.135572Z",
     "iopub.status.busy": "2023-01-03T02:02:05.134978Z",
     "iopub.status.idle": "2023-01-03T02:02:05.657228Z",
     "shell.execute_reply": "2023-01-03T02:02:05.656166Z"
    },
    "papermill": {
     "duration": 0.657525,
     "end_time": "2023-01-03T02:02:05.659657",
     "exception": false,
     "start_time": "2023-01-03T02:02:05.002132",
     "status": "completed"
    },
    "tags": []
   },
   "outputs": [],
   "source": [
    "from xgboost import XGBClassifier\n",
    "from sklearn.linear_model import LogisticRegression\n",
    "from sklearn.ensemble import RandomForestClassifier\n",
    "from sklearn.metrics import accuracy_score\n",
    "from yellowbrick.classifier import ClassificationReport"
   ]
  },
  {
   "cell_type": "markdown",
   "id": "66f216c5",
   "metadata": {
    "papermill": {
     "duration": 0.140199,
     "end_time": "2023-01-03T02:02:05.929402",
     "exception": false,
     "start_time": "2023-01-03T02:02:05.789203",
     "status": "completed"
    },
    "tags": []
   },
   "source": [
    "# 1. The XGBoost Model"
   ]
  },
  {
   "cell_type": "code",
   "execution_count": null,
   "id": "95febd9e",
   "metadata": {
    "execution": {
     "iopub.execute_input": "2023-01-03T02:02:06.192731Z",
     "iopub.status.busy": "2023-01-03T02:02:06.192140Z",
     "iopub.status.idle": "2023-01-03T02:03:21.007763Z",
     "shell.execute_reply": "2023-01-03T02:03:21.006716Z"
    },
    "papermill": {
     "duration": 75.074117,
     "end_time": "2023-01-03T02:03:21.133587",
     "exception": false,
     "start_time": "2023-01-03T02:02:06.059470",
     "status": "completed"
    },
    "scrolled": true,
    "tags": []
   },
   "outputs": [],
   "source": [
    "xgb_model = XGBClassifier()\n",
    "xgb_model.fit(X_train, y_train)\n",
    "prediction_xgb = xgb_model.predict(X_valid)\n",
    "xgb_score = accuracy_score(y_valid, prediction_xgb)*100\n",
    "print(f\"The accuracy of the XGBoost Model on the validation data is {round(xgb_score, 2)}%\")"
   ]
  },
  {
   "cell_type": "markdown",
   "id": "51206ef8",
   "metadata": {
    "papermill": {
     "duration": 0.120779,
     "end_time": "2023-01-03T02:03:21.381433",
     "exception": false,
     "start_time": "2023-01-03T02:03:21.260654",
     "status": "completed"
    },
    "tags": []
   },
   "source": [
    "# The XGBoost Classification Report"
   ]
  },
  {
   "cell_type": "code",
   "execution_count": null,
   "id": "7c059a8e",
   "metadata": {
    "execution": {
     "iopub.execute_input": "2023-01-03T02:03:21.648205Z",
     "iopub.status.busy": "2023-01-03T02:03:21.646999Z",
     "iopub.status.idle": "2023-01-03T02:04:36.172134Z",
     "shell.execute_reply": "2023-01-03T02:04:36.171216Z"
    },
    "papermill": {
     "duration": 74.794196,
     "end_time": "2023-01-03T02:04:36.306113",
     "exception": false,
     "start_time": "2023-01-03T02:03:21.511917",
     "status": "completed"
    },
    "tags": []
   },
   "outputs": [],
   "source": [
    "xgb_model = XGBClassifier()\n",
    "xgb_model = ClassificationReport(xgb_model, support=False)\n",
    "xgb_model.fit(X_train, y_train)\n",
    "xgb_model.score(X_valid, y_valid)\n",
    "xgb_model.show()"
   ]
  },
  {
   "cell_type": "markdown",
   "id": "8934ae9f",
   "metadata": {
    "papermill": {
     "duration": 0.130864,
     "end_time": "2023-01-03T02:04:36.554040",
     "exception": false,
     "start_time": "2023-01-03T02:04:36.423176",
     "status": "completed"
    },
    "tags": []
   },
   "source": [
    "# 2. The Logistic Regression Model"
   ]
  },
  {
   "cell_type": "code",
   "execution_count": null,
   "id": "ddf0a1b2",
   "metadata": {
    "execution": {
     "iopub.execute_input": "2023-01-03T02:04:36.822887Z",
     "iopub.status.busy": "2023-01-03T02:04:36.821561Z",
     "iopub.status.idle": "2023-01-03T02:04:39.182015Z",
     "shell.execute_reply": "2023-01-03T02:04:39.179839Z"
    },
    "papermill": {
     "duration": 2.497678,
     "end_time": "2023-01-03T02:04:39.185926",
     "exception": false,
     "start_time": "2023-01-03T02:04:36.688248",
     "status": "completed"
    },
    "tags": []
   },
   "outputs": [],
   "source": [
    "logistic_model = LogisticRegression()\n",
    "logistic_model.fit(X_train, y_train)\n",
    "prediction_logistic = logistic_model.predict(X_valid)\n",
    "logistic_score = accuracy_score(y_valid, prediction_logistic)*100\n",
    "print(f\"The accuracy of the Logistic Regression Model on the validation data is {round(logistic_score, 2)}%\")"
   ]
  },
  {
   "cell_type": "markdown",
   "id": "45b824e9",
   "metadata": {
    "papermill": {
     "duration": 0.129492,
     "end_time": "2023-01-03T02:04:39.503917",
     "exception": false,
     "start_time": "2023-01-03T02:04:39.374425",
     "status": "completed"
    },
    "tags": []
   },
   "source": [
    "# The Logistic Regression Classification Report"
   ]
  },
  {
   "cell_type": "code",
   "execution_count": null,
   "id": "e92851df",
   "metadata": {
    "execution": {
     "iopub.execute_input": "2023-01-03T02:04:39.766831Z",
     "iopub.status.busy": "2023-01-03T02:04:39.766213Z",
     "iopub.status.idle": "2023-01-03T02:04:42.549029Z",
     "shell.execute_reply": "2023-01-03T02:04:42.548118Z"
    },
    "papermill": {
     "duration": 2.917362,
     "end_time": "2023-01-03T02:04:42.551003",
     "exception": false,
     "start_time": "2023-01-03T02:04:39.633641",
     "status": "completed"
    },
    "tags": []
   },
   "outputs": [],
   "source": [
    "logistic_model = LogisticRegression()\n",
    "logistic_model = ClassificationReport(logistic_model, support=False)\n",
    "logistic_model.fit(X_train, y_train)\n",
    "logistic_model.score(X_valid, y_valid)\n",
    "logistic_model.show()"
   ]
  },
  {
   "cell_type": "markdown",
   "id": "b58b974a",
   "metadata": {
    "papermill": {
     "duration": 0.120354,
     "end_time": "2023-01-03T02:04:42.799075",
     "exception": false,
     "start_time": "2023-01-03T02:04:42.678721",
     "status": "completed"
    },
    "tags": []
   },
   "source": [
    "# 3. The Random Forest Classifier Model"
   ]
  },
  {
   "cell_type": "code",
   "execution_count": null,
   "id": "143104c1",
   "metadata": {
    "execution": {
     "iopub.execute_input": "2023-01-03T02:04:43.061844Z",
     "iopub.status.busy": "2023-01-03T02:04:43.060918Z",
     "iopub.status.idle": "2023-01-03T02:06:28.202450Z",
     "shell.execute_reply": "2023-01-03T02:06:28.198487Z"
    },
    "papermill": {
     "duration": 105.407479,
     "end_time": "2023-01-03T02:06:28.336125",
     "exception": false,
     "start_time": "2023-01-03T02:04:42.928646",
     "status": "completed"
    },
    "tags": []
   },
   "outputs": [],
   "source": [
    "random_forest_model = RandomForestClassifier()\n",
    "random_forest_model.fit(X_train, y_train)\n",
    "prediction_random = random_forest_model.predict(X_valid)\n",
    "random_forest_score = accuracy_score(y_valid, prediction_random)*100\n",
    "print(f\"The accuracy of the Random Forest Model on the validation data is {round(random_forest_score, 2)}%\")"
   ]
  },
  {
   "cell_type": "markdown",
   "id": "36d4ef1d",
   "metadata": {
    "papermill": {
     "duration": 0.131694,
     "end_time": "2023-01-03T02:06:28.599683",
     "exception": false,
     "start_time": "2023-01-03T02:06:28.467989",
     "status": "completed"
    },
    "tags": []
   },
   "source": [
    "# The Random Forest Classification Report"
   ]
  },
  {
   "cell_type": "code",
   "execution_count": null,
   "id": "c339943e",
   "metadata": {
    "execution": {
     "iopub.execute_input": "2023-01-03T02:06:28.863349Z",
     "iopub.status.busy": "2023-01-03T02:06:28.862884Z",
     "iopub.status.idle": "2023-01-03T02:08:31.370149Z",
     "shell.execute_reply": "2023-01-03T02:08:31.369209Z"
    },
    "papermill": {
     "duration": 122.771743,
     "end_time": "2023-01-03T02:08:31.502694",
     "exception": false,
     "start_time": "2023-01-03T02:06:28.730951",
     "status": "completed"
    },
    "tags": []
   },
   "outputs": [],
   "source": [
    "random_forest_model = RandomForestClassifier()\n",
    "random_forest_model = ClassificationReport(random_forest_model, support=False)\n",
    "random_forest_model.fit(X_train, y_train)\n",
    "random_forest_model.score(X_valid, y_valid)\n",
    "random_forest_model.show()"
   ]
  },
  {
   "cell_type": "markdown",
   "id": "751ed0c0",
   "metadata": {
    "papermill": {
     "duration": 0.130741,
     "end_time": "2023-01-03T02:08:31.751432",
     "exception": false,
     "start_time": "2023-01-03T02:08:31.620691",
     "status": "completed"
    },
    "tags": []
   },
   "source": [
    "# Conclusion\n",
    "### The XGBoost Model by means of the accuracy on the validation data and its classification report is the best model."
   ]
  },
  {
   "cell_type": "markdown",
   "id": "81d2af15",
   "metadata": {
    "papermill": {
     "duration": 0.145631,
     "end_time": "2023-01-03T02:08:32.029267",
     "exception": false,
     "start_time": "2023-01-03T02:08:31.883636",
     "status": "completed"
    },
    "tags": []
   },
   "source": [
    "# THANK YOU FOR YOUR TIME!"
   ]
  }
 ],
 "metadata": {
  "kernelspec": {
   "display_name": "Python 3 (ipykernel)",
   "language": "python",
   "name": "python3"
  },
  "language_info": {
   "codemirror_mode": {
    "name": "ipython",
    "version": 3
   },
   "file_extension": ".py",
   "mimetype": "text/x-python",
   "name": "python",
   "nbconvert_exporter": "python",
   "pygments_lexer": "ipython3",
   "version": "3.8.10"
  },
  "papermill": {
   "default_parameters": {},
   "duration": 423.724058,
   "end_time": "2023-01-03T02:08:33.594015",
   "environment_variables": {},
   "exception": null,
   "input_path": "__notebook__.ipynb",
   "output_path": "__notebook__.ipynb",
   "parameters": {},
   "start_time": "2023-01-03T02:01:29.869957",
   "version": "2.3.4"
  }
 },
 "nbformat": 4,
 "nbformat_minor": 5
}
