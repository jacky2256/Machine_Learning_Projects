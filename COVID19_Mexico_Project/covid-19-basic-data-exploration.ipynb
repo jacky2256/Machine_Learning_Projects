{
 "cells": [
  {
   "cell_type": "code",
   "execution_count": 1,
   "id": "969575cc",
   "metadata": {
    "_cell_guid": "b1076dfc-b9ad-4769-8c92-a6c4dae69d19",
    "_uuid": "8f2839f25d086af736a60e9eeb907d3b93b6e0e5",
    "execution": {
     "iopub.execute_input": "2022-12-23T19:05:49.973636Z",
     "iopub.status.busy": "2022-12-23T19:05:49.973125Z",
     "iopub.status.idle": "2022-12-23T19:05:51.094881Z",
     "shell.execute_reply": "2022-12-23T19:05:51.093429Z"
    },
    "papermill": {
     "duration": 1.133113,
     "end_time": "2022-12-23T19:05:51.097804",
     "exception": false,
     "start_time": "2022-12-23T19:05:49.964691",
     "status": "completed"
    },
    "tags": []
   },
   "outputs": [],
   "source": [
    "import numpy as np # linear algebra\n",
    "import pandas as pd # data processing, CSV file I/O (e.g. pd.read_csv)\n",
    "import seaborn as sns \n",
    "from matplotlib import pyplot as plt"
   ]
  },
  {
   "cell_type": "markdown",
   "id": "f0110e3e",
   "metadata": {
    "papermill": {
     "duration": 0.004582,
     "end_time": "2022-12-23T19:05:51.107593",
     "exception": false,
     "start_time": "2022-12-23T19:05:51.103011",
     "status": "completed"
    },
    "tags": []
   },
   "source": [
    "The dataset was provided by the Mexican government (link). This dataset contains an enormous number of anonymized patient-related information including pre-conditions. The raw dataset consists of 21 unique features and 1,048,576 unique patients. \n",
    "\n",
    "**In the Boolean features, 1 means \"yes\" and 2 means \"no\". values as 97 and 99 are missing data.**\n",
    "\n",
    "- **sex:** 1 for female and 2 for male.\n",
    "- **age:** of the patient.\n",
    "- **classification:** covid test findings. Values 1-3 mean that the patient was diagnosed with covid in different degrees. 4 or higher means that the patient is not a carrier of covid or that the test is inconclusive.\n",
    "- **patient type:** type of care the patient received in the unit. 1 for returned home and 2 for hospitalization.\n",
    "- **pneumonia:** whether the patient already have air sacs inflammation or not.\n",
    "- **pregnancy:** whether the patient is pregnant or not.\n",
    "- **diabetes:** whether the patient has diabetes or not.\n",
    "- **copd:** Indicates whether the patient has Chronic obstructive pulmonary disease or not.\n",
    "- **asthma:** whether the patient has asthma or not.\n",
    "- **inmsupr:** whether the patient is immunosuppressed or not.\n",
    "- **hypertension:** whether the patient has hypertension or not.\n",
    "- **cardiovascular:** whether the patient has heart or blood vessels related disease.\n",
    "- **renal chronic:** whether the patient has chronic renal disease or not.\n",
    "- **other disease:** whether the patient has other disease or not.\n",
    "- **obesity:** whether the patient is obese or not.\n",
    "- **tobacco:** whether the patient is a tobacco user.\n",
    "- **usmr:** Indicates whether the patient treated medical units of the first, second or third level.\n",
    "- **medical unit:** type of institution of the National Health System that provided the care.\n",
    "- **intubed:** whether the patient was connected to the ventilator.\n",
    "- **icu:** Indicates whether the patient had been admitted to an Intensive Care Unit.\n",
    "- **date died:** If the patient died indicate the date of death, and 9999-99-99 otherwise."
   ]
  },
  {
   "cell_type": "code",
   "execution_count": 3,
   "id": "51b5092d",
   "metadata": {
    "execution": {
     "iopub.execute_input": "2022-12-23T19:05:51.118885Z",
     "iopub.status.busy": "2022-12-23T19:05:51.118469Z",
     "iopub.status.idle": "2022-12-23T19:05:53.141004Z",
     "shell.execute_reply": "2022-12-23T19:05:53.139829Z"
    },
    "papermill": {
     "duration": 2.031289,
     "end_time": "2022-12-23T19:05:53.143746",
     "exception": false,
     "start_time": "2022-12-23T19:05:51.112457",
     "status": "completed"
    },
    "tags": []
   },
   "outputs": [
    {
     "data": {
      "text/html": [
       "<div>\n",
       "<style scoped>\n",
       "    .dataframe tbody tr th:only-of-type {\n",
       "        vertical-align: middle;\n",
       "    }\n",
       "\n",
       "    .dataframe tbody tr th {\n",
       "        vertical-align: top;\n",
       "    }\n",
       "\n",
       "    .dataframe thead th {\n",
       "        text-align: right;\n",
       "    }\n",
       "</style>\n",
       "<table border=\"1\" class=\"dataframe\">\n",
       "  <thead>\n",
       "    <tr style=\"text-align: right;\">\n",
       "      <th></th>\n",
       "      <th>USMER</th>\n",
       "      <th>MEDICAL_UNIT</th>\n",
       "      <th>SEX</th>\n",
       "      <th>PATIENT_TYPE</th>\n",
       "      <th>DATE_DIED</th>\n",
       "      <th>INTUBED</th>\n",
       "      <th>PNEUMONIA</th>\n",
       "      <th>AGE</th>\n",
       "      <th>PREGNANT</th>\n",
       "      <th>DIABETES</th>\n",
       "      <th>...</th>\n",
       "      <th>ASTHMA</th>\n",
       "      <th>INMSUPR</th>\n",
       "      <th>HIPERTENSION</th>\n",
       "      <th>OTHER_DISEASE</th>\n",
       "      <th>CARDIOVASCULAR</th>\n",
       "      <th>OBESITY</th>\n",
       "      <th>RENAL_CHRONIC</th>\n",
       "      <th>TOBACCO</th>\n",
       "      <th>CLASIFFICATION_FINAL</th>\n",
       "      <th>ICU</th>\n",
       "    </tr>\n",
       "  </thead>\n",
       "  <tbody>\n",
       "    <tr>\n",
       "      <th>1048570</th>\n",
       "      <td>2</td>\n",
       "      <td>13</td>\n",
       "      <td>2</td>\n",
       "      <td>1</td>\n",
       "      <td>9999-99-99</td>\n",
       "      <td>97</td>\n",
       "      <td>2</td>\n",
       "      <td>40</td>\n",
       "      <td>97</td>\n",
       "      <td>2</td>\n",
       "      <td>...</td>\n",
       "      <td>2</td>\n",
       "      <td>2</td>\n",
       "      <td>2</td>\n",
       "      <td>2</td>\n",
       "      <td>2</td>\n",
       "      <td>2</td>\n",
       "      <td>2</td>\n",
       "      <td>2</td>\n",
       "      <td>7</td>\n",
       "      <td>97</td>\n",
       "    </tr>\n",
       "    <tr>\n",
       "      <th>1048571</th>\n",
       "      <td>1</td>\n",
       "      <td>13</td>\n",
       "      <td>2</td>\n",
       "      <td>2</td>\n",
       "      <td>9999-99-99</td>\n",
       "      <td>2</td>\n",
       "      <td>2</td>\n",
       "      <td>51</td>\n",
       "      <td>97</td>\n",
       "      <td>2</td>\n",
       "      <td>...</td>\n",
       "      <td>2</td>\n",
       "      <td>2</td>\n",
       "      <td>1</td>\n",
       "      <td>2</td>\n",
       "      <td>2</td>\n",
       "      <td>2</td>\n",
       "      <td>2</td>\n",
       "      <td>2</td>\n",
       "      <td>7</td>\n",
       "      <td>2</td>\n",
       "    </tr>\n",
       "    <tr>\n",
       "      <th>1048572</th>\n",
       "      <td>2</td>\n",
       "      <td>13</td>\n",
       "      <td>2</td>\n",
       "      <td>1</td>\n",
       "      <td>9999-99-99</td>\n",
       "      <td>97</td>\n",
       "      <td>2</td>\n",
       "      <td>55</td>\n",
       "      <td>97</td>\n",
       "      <td>2</td>\n",
       "      <td>...</td>\n",
       "      <td>2</td>\n",
       "      <td>2</td>\n",
       "      <td>2</td>\n",
       "      <td>2</td>\n",
       "      <td>2</td>\n",
       "      <td>2</td>\n",
       "      <td>2</td>\n",
       "      <td>2</td>\n",
       "      <td>7</td>\n",
       "      <td>97</td>\n",
       "    </tr>\n",
       "    <tr>\n",
       "      <th>1048573</th>\n",
       "      <td>2</td>\n",
       "      <td>13</td>\n",
       "      <td>2</td>\n",
       "      <td>1</td>\n",
       "      <td>9999-99-99</td>\n",
       "      <td>97</td>\n",
       "      <td>2</td>\n",
       "      <td>28</td>\n",
       "      <td>97</td>\n",
       "      <td>2</td>\n",
       "      <td>...</td>\n",
       "      <td>2</td>\n",
       "      <td>2</td>\n",
       "      <td>2</td>\n",
       "      <td>2</td>\n",
       "      <td>2</td>\n",
       "      <td>2</td>\n",
       "      <td>2</td>\n",
       "      <td>2</td>\n",
       "      <td>7</td>\n",
       "      <td>97</td>\n",
       "    </tr>\n",
       "    <tr>\n",
       "      <th>1048574</th>\n",
       "      <td>2</td>\n",
       "      <td>13</td>\n",
       "      <td>2</td>\n",
       "      <td>1</td>\n",
       "      <td>9999-99-99</td>\n",
       "      <td>97</td>\n",
       "      <td>2</td>\n",
       "      <td>52</td>\n",
       "      <td>97</td>\n",
       "      <td>2</td>\n",
       "      <td>...</td>\n",
       "      <td>2</td>\n",
       "      <td>2</td>\n",
       "      <td>2</td>\n",
       "      <td>2</td>\n",
       "      <td>2</td>\n",
       "      <td>2</td>\n",
       "      <td>2</td>\n",
       "      <td>2</td>\n",
       "      <td>7</td>\n",
       "      <td>97</td>\n",
       "    </tr>\n",
       "  </tbody>\n",
       "</table>\n",
       "<p>5 rows × 21 columns</p>\n",
       "</div>"
      ],
      "text/plain": [
       "         USMER  MEDICAL_UNIT  SEX  PATIENT_TYPE   DATE_DIED  INTUBED  \\\n",
       "1048570      2            13    2             1  9999-99-99       97   \n",
       "1048571      1            13    2             2  9999-99-99        2   \n",
       "1048572      2            13    2             1  9999-99-99       97   \n",
       "1048573      2            13    2             1  9999-99-99       97   \n",
       "1048574      2            13    2             1  9999-99-99       97   \n",
       "\n",
       "         PNEUMONIA  AGE  PREGNANT  DIABETES  ...  ASTHMA  INMSUPR  \\\n",
       "1048570          2   40        97         2  ...       2        2   \n",
       "1048571          2   51        97         2  ...       2        2   \n",
       "1048572          2   55        97         2  ...       2        2   \n",
       "1048573          2   28        97         2  ...       2        2   \n",
       "1048574          2   52        97         2  ...       2        2   \n",
       "\n",
       "         HIPERTENSION  OTHER_DISEASE  CARDIOVASCULAR  OBESITY  RENAL_CHRONIC  \\\n",
       "1048570             2              2               2        2              2   \n",
       "1048571             1              2               2        2              2   \n",
       "1048572             2              2               2        2              2   \n",
       "1048573             2              2               2        2              2   \n",
       "1048574             2              2               2        2              2   \n",
       "\n",
       "         TOBACCO  CLASIFFICATION_FINAL  ICU  \n",
       "1048570        2                     7   97  \n",
       "1048571        2                     7    2  \n",
       "1048572        2                     7   97  \n",
       "1048573        2                     7   97  \n",
       "1048574        2                     7   97  \n",
       "\n",
       "[5 rows x 21 columns]"
      ]
     },
     "execution_count": 3,
     "metadata": {},
     "output_type": "execute_result"
    }
   ],
   "source": [
    "#import data\n",
    "data = pd.read_csv('Covid Data.csv')\n",
    "\n",
    "#having a first look at the data\n",
    "data.head()\n",
    "data.tail()"
   ]
  },
  {
   "cell_type": "code",
   "execution_count": 4,
   "id": "cd2d44da",
   "metadata": {
    "execution": {
     "iopub.execute_input": "2022-12-23T19:05:53.155792Z",
     "iopub.status.busy": "2022-12-23T19:05:53.155417Z",
     "iopub.status.idle": "2022-12-23T19:05:53.162903Z",
     "shell.execute_reply": "2022-12-23T19:05:53.161761Z"
    },
    "papermill": {
     "duration": 0.01603,
     "end_time": "2022-12-23T19:05:53.165067",
     "exception": false,
     "start_time": "2022-12-23T19:05:53.149037",
     "status": "completed"
    },
    "tags": []
   },
   "outputs": [
    {
     "data": {
      "text/plain": [
       "Index(['USMER', 'MEDICAL_UNIT', 'SEX', 'PATIENT_TYPE', 'DATE_DIED', 'INTUBED',\n",
       "       'PNEUMONIA', 'AGE', 'PREGNANT', 'DIABETES', 'COPD', 'ASTHMA', 'INMSUPR',\n",
       "       'HIPERTENSION', 'OTHER_DISEASE', 'CARDIOVASCULAR', 'OBESITY',\n",
       "       'RENAL_CHRONIC', 'TOBACCO', 'CLASIFFICATION_FINAL', 'ICU'],\n",
       "      dtype='object')"
      ]
     },
     "execution_count": 4,
     "metadata": {},
     "output_type": "execute_result"
    }
   ],
   "source": [
    "#having a look at the columns names\n",
    "data.columns"
   ]
  },
  {
   "cell_type": "code",
   "execution_count": 5,
   "id": "b641e5d9",
   "metadata": {
    "execution": {
     "iopub.execute_input": "2022-12-23T19:05:53.177817Z",
     "iopub.status.busy": "2022-12-23T19:05:53.177431Z",
     "iopub.status.idle": "2022-12-23T19:05:53.227102Z",
     "shell.execute_reply": "2022-12-23T19:05:53.225966Z"
    },
    "papermill": {
     "duration": 0.058596,
     "end_time": "2022-12-23T19:05:53.229502",
     "exception": false,
     "start_time": "2022-12-23T19:05:53.170906",
     "status": "completed"
    },
    "scrolled": true,
    "tags": []
   },
   "outputs": [
    {
     "data": {
      "text/plain": [
       "count    1048575.0\n",
       "mean          42.0\n",
       "std           17.0\n",
       "min            0.0\n",
       "25%           30.0\n",
       "50%           40.0\n",
       "75%           53.0\n",
       "max          121.0\n",
       "Name: AGE, dtype: float64"
      ]
     },
     "execution_count": 5,
     "metadata": {},
     "output_type": "execute_result"
    }
   ],
   "source": [
    "#lets describe the 'age' column\n",
    "round(data['AGE'].describe())"
   ]
  },
  {
   "cell_type": "code",
   "execution_count": 6,
   "id": "f5d6e9db",
   "metadata": {
    "execution": {
     "iopub.execute_input": "2022-12-23T19:05:53.242019Z",
     "iopub.status.busy": "2022-12-23T19:05:53.241647Z",
     "iopub.status.idle": "2022-12-23T19:05:54.701154Z",
     "shell.execute_reply": "2022-12-23T19:05:54.700317Z"
    },
    "papermill": {
     "duration": 1.46853,
     "end_time": "2022-12-23T19:05:54.703508",
     "exception": false,
     "start_time": "2022-12-23T19:05:53.234978",
     "status": "completed"
    },
    "tags": []
   },
   "outputs": [
    {
     "data": {
      "image/png": "[encoded data removed]",
      "text/plain": [
       "<Figure size 640x480 with 1 Axes>"
      ]
     },
     "metadata": {},
     "output_type": "display_data"
    }
   ],
   "source": [
    "#lets see if there is a relationship between age and covid-19 hospitalization\n",
    "\n",
    "#patients diagnosed with COVID without the necessity of hospitalization\n",
    "\n",
    "#data distribution\n",
    "\n",
    "p_type = sns.histplot(data = data, x='AGE', hue = 'PATIENT_TYPE') \n",
    "plt.legend(title='Hospitalization', loc='upper right', labels=['Yes', 'No'])\n",
    "plt.show(p_type)"
   ]
  },
  {
   "cell_type": "markdown",
   "id": "2c47532f",
   "metadata": {
    "papermill": {
     "duration": 0.005353,
     "end_time": "2022-12-23T19:05:54.714658",
     "exception": false,
     "start_time": "2022-12-23T19:05:54.709305",
     "status": "completed"
    },
    "tags": []
   },
   "source": [
    "In this dataset, we have more not-hospitalized people than hospitalized ones. The hospitalizations occurs predominantly in elderly people (age >= 60). Infants also looks like a risk-group for COVID-19 because nearly 100% of then (age closer to 0) also were hospitalized."
   ]
  },
  {
   "cell_type": "code",
   "execution_count": 7,
   "id": "ff109b16",
   "metadata": {
    "execution": {
     "iopub.execute_input": "2022-12-23T19:05:54.727696Z",
     "iopub.status.busy": "2022-12-23T19:05:54.727264Z",
     "iopub.status.idle": "2022-12-23T19:05:55.036214Z",
     "shell.execute_reply": "2022-12-23T19:05:55.035053Z"
    },
    "papermill": {
     "duration": 0.318536,
     "end_time": "2022-12-23T19:05:55.038659",
     "exception": false,
     "start_time": "2022-12-23T19:05:54.720123",
     "status": "completed"
    },
    "tags": []
   },
   "outputs": [
    {
     "data": {
      "text/html": [
       "<div>\n",
       "<style scoped>\n",
       "    .dataframe tbody tr th:only-of-type {\n",
       "        vertical-align: middle;\n",
       "    }\n",
       "\n",
       "    .dataframe tbody tr th {\n",
       "        vertical-align: top;\n",
       "    }\n",
       "\n",
       "    .dataframe thead th {\n",
       "        text-align: right;\n",
       "    }\n",
       "</style>\n",
       "<table border=\"1\" class=\"dataframe\">\n",
       "  <thead>\n",
       "    <tr style=\"text-align: right;\">\n",
       "      <th></th>\n",
       "      <th>DATE_DIED</th>\n",
       "      <th>DIED</th>\n",
       "    </tr>\n",
       "  </thead>\n",
       "  <tbody>\n",
       "    <tr>\n",
       "      <th>0</th>\n",
       "      <td>03/05/2020</td>\n",
       "      <td>Yes</td>\n",
       "    </tr>\n",
       "    <tr>\n",
       "      <th>1</th>\n",
       "      <td>03/06/2020</td>\n",
       "      <td>Yes</td>\n",
       "    </tr>\n",
       "    <tr>\n",
       "      <th>2</th>\n",
       "      <td>09/06/2020</td>\n",
       "      <td>Yes</td>\n",
       "    </tr>\n",
       "    <tr>\n",
       "      <th>3</th>\n",
       "      <td>12/06/2020</td>\n",
       "      <td>Yes</td>\n",
       "    </tr>\n",
       "    <tr>\n",
       "      <th>4</th>\n",
       "      <td>21/06/2020</td>\n",
       "      <td>Yes</td>\n",
       "    </tr>\n",
       "    <tr>\n",
       "      <th>5</th>\n",
       "      <td>9999-99-99</td>\n",
       "      <td>No</td>\n",
       "    </tr>\n",
       "    <tr>\n",
       "      <th>6</th>\n",
       "      <td>9999-99-99</td>\n",
       "      <td>No</td>\n",
       "    </tr>\n",
       "    <tr>\n",
       "      <th>7</th>\n",
       "      <td>9999-99-99</td>\n",
       "      <td>No</td>\n",
       "    </tr>\n",
       "    <tr>\n",
       "      <th>8</th>\n",
       "      <td>9999-99-99</td>\n",
       "      <td>No</td>\n",
       "    </tr>\n",
       "    <tr>\n",
       "      <th>9</th>\n",
       "      <td>9999-99-99</td>\n",
       "      <td>No</td>\n",
       "    </tr>\n",
       "  </tbody>\n",
       "</table>\n",
       "</div>"
      ],
      "text/plain": [
       "    DATE_DIED DIED\n",
       "0  03/05/2020  Yes\n",
       "1  03/06/2020  Yes\n",
       "2  09/06/2020  Yes\n",
       "3  12/06/2020  Yes\n",
       "4  21/06/2020  Yes\n",
       "5  9999-99-99   No\n",
       "6  9999-99-99   No\n",
       "7  9999-99-99   No\n",
       "8  9999-99-99   No\n",
       "9  9999-99-99   No"
      ]
     },
     "execution_count": 7,
     "metadata": {},
     "output_type": "execute_result"
    }
   ],
   "source": [
    "#lets see how hospitalization and deaths correlates with age; \n",
    "#first lets stablish a binary way of identify if the patient died; \n",
    "#following the boolean code of the already existing features, lts stablish 1 for patients who died and 2 for patient who didn't die\n",
    "\n",
    "data_transformed = data\n",
    "data_transformed.loc[data_transformed['DATE_DIED'] =='9999-99-99', 'DIED'] = \"No\"\n",
    "data_transformed.loc[data_transformed['DATE_DIED'] !='9999-99-99', 'DIED'] = \"Yes\"\n",
    "\n",
    "#verify if the column was correctly created\n",
    "data_transformed[['DATE_DIED', 'DIED']].head(10)\n"
   ]
  },
  {
   "cell_type": "code",
   "execution_count": 8,
   "id": "9d152f7d",
   "metadata": {
    "execution": {
     "iopub.execute_input": "2022-12-23T19:05:55.053147Z",
     "iopub.status.busy": "2022-12-23T19:05:55.052761Z",
     "iopub.status.idle": "2022-12-23T19:05:55.283629Z",
     "shell.execute_reply": "2022-12-23T19:05:55.282436Z"
    },
    "papermill": {
     "duration": 0.241139,
     "end_time": "2022-12-23T19:05:55.286028",
     "exception": false,
     "start_time": "2022-12-23T19:05:55.044889",
     "status": "completed"
    },
    "tags": []
   },
   "outputs": [
    {
     "data": {
      "text/html": [
       "<div>\n",
       "<style scoped>\n",
       "    .dataframe tbody tr th:only-of-type {\n",
       "        vertical-align: middle;\n",
       "    }\n",
       "\n",
       "    .dataframe tbody tr th {\n",
       "        vertical-align: top;\n",
       "    }\n",
       "\n",
       "    .dataframe thead th {\n",
       "        text-align: right;\n",
       "    }\n",
       "</style>\n",
       "<table border=\"1\" class=\"dataframe\">\n",
       "  <thead>\n",
       "    <tr style=\"text-align: right;\">\n",
       "      <th></th>\n",
       "      <th>PATIENT_TYPE</th>\n",
       "      <th>HOSPITALIZED</th>\n",
       "    </tr>\n",
       "  </thead>\n",
       "  <tbody>\n",
       "    <tr>\n",
       "      <th>0</th>\n",
       "      <td>1</td>\n",
       "      <td>No</td>\n",
       "    </tr>\n",
       "    <tr>\n",
       "      <th>1</th>\n",
       "      <td>1</td>\n",
       "      <td>No</td>\n",
       "    </tr>\n",
       "    <tr>\n",
       "      <th>2</th>\n",
       "      <td>2</td>\n",
       "      <td>Yes</td>\n",
       "    </tr>\n",
       "    <tr>\n",
       "      <th>3</th>\n",
       "      <td>1</td>\n",
       "      <td>No</td>\n",
       "    </tr>\n",
       "    <tr>\n",
       "      <th>4</th>\n",
       "      <td>1</td>\n",
       "      <td>No</td>\n",
       "    </tr>\n",
       "    <tr>\n",
       "      <th>5</th>\n",
       "      <td>2</td>\n",
       "      <td>Yes</td>\n",
       "    </tr>\n",
       "    <tr>\n",
       "      <th>6</th>\n",
       "      <td>1</td>\n",
       "      <td>No</td>\n",
       "    </tr>\n",
       "    <tr>\n",
       "      <th>7</th>\n",
       "      <td>1</td>\n",
       "      <td>No</td>\n",
       "    </tr>\n",
       "    <tr>\n",
       "      <th>8</th>\n",
       "      <td>2</td>\n",
       "      <td>Yes</td>\n",
       "    </tr>\n",
       "    <tr>\n",
       "      <th>9</th>\n",
       "      <td>2</td>\n",
       "      <td>Yes</td>\n",
       "    </tr>\n",
       "  </tbody>\n",
       "</table>\n",
       "</div>"
      ],
      "text/plain": [
       "   PATIENT_TYPE HOSPITALIZED\n",
       "0             1           No\n",
       "1             1           No\n",
       "2             2          Yes\n",
       "3             1           No\n",
       "4             1           No\n",
       "5             2          Yes\n",
       "6             1           No\n",
       "7             1           No\n",
       "8             2          Yes\n",
       "9             2          Yes"
      ]
     },
     "execution_count": 8,
     "metadata": {},
     "output_type": "execute_result"
    }
   ],
   "source": [
    "#lets also clarify the patient type\n",
    "data_transformed.loc[data_transformed['PATIENT_TYPE'] ==2, 'HOSPITALIZED'] = \"Yes\"\n",
    "data_transformed.loc[data_transformed['PATIENT_TYPE'] ==1, 'HOSPITALIZED'] = \"No\"\n",
    "\n",
    "#verify if the column was correctly created\n",
    "data_transformed[['PATIENT_TYPE', 'HOSPITALIZED']].head(10)"
   ]
  },
  {
   "cell_type": "code",
   "execution_count": 9,
   "id": "e8147734",
   "metadata": {
    "execution": {
     "iopub.execute_input": "2022-12-23T19:05:55.302157Z",
     "iopub.status.busy": "2022-12-23T19:05:55.301510Z",
     "iopub.status.idle": "2022-12-23T19:06:10.258572Z",
     "shell.execute_reply": "2022-12-23T19:06:10.257523Z"
    },
    "papermill": {
     "duration": 14.968824,
     "end_time": "2022-12-23T19:06:10.261073",
     "exception": false,
     "start_time": "2022-12-23T19:05:55.292249",
     "status": "completed"
    },
    "tags": []
   },
   "outputs": [
    {
     "data": {
      "image/png": "[encoded data removed]",
      "text/plain": [
       "<Figure size 640x480 with 1 Axes>"
      ]
     },
     "metadata": {},
     "output_type": "display_data"
    }
   ],
   "source": [
    "d = sns.histplot(data=data_transformed, x='AGE', hue=data_transformed[['HOSPITALIZED', 'DIED']].apply(tuple, axis=1),fill=False) \n",
    "d.set(title='Hospitalized | Died')\n",
    "plt.show(d)"
   ]
  },
  {
   "cell_type": "markdown",
   "id": "aa6c6117",
   "metadata": {
    "papermill": {
     "duration": 0.006163,
     "end_time": "2022-12-23T19:06:10.273813",
     "exception": false,
     "start_time": "2022-12-23T19:06:10.267650",
     "status": "completed"
    },
    "tags": []
   },
   "source": [
    "Its possible to note that for ages < 80 years the majority of people were not hospitalized and did not died. We also can see that infants were largely hospitalized, but the death of COVID-19 is a rare event for this age. Although, after the 40's, the number of hospitalization and the number of deaths increases. After the 60's, nearly all the hospitalized people died, reinforcing the age as a important risk-factor of severe COVID-19. There is a quantity of people that died without being hospitalized. This number is small when compared with the other proportions but is also more prevalent in patients with age > 40 years.\n"
   ]
  },
  {
   "cell_type": "code",
   "execution_count": 10,
   "id": "2896e9e5",
   "metadata": {
    "execution": {
     "iopub.execute_input": "2022-12-23T19:06:10.288191Z",
     "iopub.status.busy": "2022-12-23T19:06:10.287801Z",
     "iopub.status.idle": "2022-12-23T19:06:10.323078Z",
     "shell.execute_reply": "2022-12-23T19:06:10.321755Z"
    },
    "papermill": {
     "duration": 0.045476,
     "end_time": "2022-12-23T19:06:10.325593",
     "exception": false,
     "start_time": "2022-12-23T19:06:10.280117",
     "status": "completed"
    },
    "tags": []
   },
   "outputs": [
    {
     "name": "stdout",
     "output_type": "stream",
     "text": [
      "n_females:  525064 n_males : 523511 abs_diff:  1553\n"
     ]
    }
   ],
   "source": [
    "#lets see how the genre relates to age and covid-19 death\n",
    "\n",
    "#see how many males and females we have in the dataset\n",
    "n_females = data['SEX'].loc[(data.SEX == 1)].count()\n",
    "n_males = data['SEX'].loc[(data.SEX == 2)].count()\n",
    "print('n_females: ', n_females, 'n_males :', n_males, 'abs_diff: ', abs(n_females-n_males))"
   ]
  },
  {
   "cell_type": "markdown",
   "id": "2d08a310",
   "metadata": {
    "papermill": {
     "duration": 0.006259,
     "end_time": "2022-12-23T19:06:10.338980",
     "exception": false,
     "start_time": "2022-12-23T19:06:10.332721",
     "status": "completed"
    },
    "tags": []
   },
   "source": [
    "We can see we have more females than males, but the difference is not so large so we propably don't have a significant bias on this variable"
   ]
  },
  {
   "cell_type": "code",
   "execution_count": 11,
   "id": "17483568",
   "metadata": {
    "execution": {
     "iopub.execute_input": "2022-12-23T19:06:10.353832Z",
     "iopub.status.busy": "2022-12-23T19:06:10.353413Z",
     "iopub.status.idle": "2022-12-23T19:06:11.075052Z",
     "shell.execute_reply": "2022-12-23T19:06:11.073913Z"
    },
    "papermill": {
     "duration": 0.732316,
     "end_time": "2022-12-23T19:06:11.077823",
     "exception": false,
     "start_time": "2022-12-23T19:06:10.345507",
     "status": "completed"
    },
    "tags": []
   },
   "outputs": [
    {
     "data": {
      "image/png": "[encoded data removed]",
      "text/plain": [
       "<Figure size 640x480 with 1 Axes>"
      ]
     },
     "metadata": {},
     "output_type": "display_data"
    }
   ],
   "source": [
    "#lets see how the genre relates to age and covid-19 death\n",
    "hospitalized_and_death = data.loc[(data.PATIENT_TYPE == 2) & (data.DATE_DIED != '9999-99-99')]\n",
    "\n",
    "g = sns.kdeplot(data=hospitalized_and_death, x='AGE', hue='SEX')\n",
    "plt.legend(title='Sex', loc='upper left', labels=['Male', 'Female'])\n",
    "plt.show(g)"
   ]
  },
  {
   "cell_type": "markdown",
   "id": "aafac379",
   "metadata": {
    "papermill": {
     "duration": 0.007172,
     "end_time": "2022-12-23T19:06:11.092424",
     "exception": false,
     "start_time": "2022-12-23T19:06:11.085252",
     "status": "completed"
    },
    "tags": []
   },
   "source": [
    "We can see that although we have more females in the dataset, the majority of deaths of hospitalized patients are from males. This could indicate a correlation between genre and COVID-19 severity. Althought, after the age 0, this tendency is not seen until the age 20, indicating that the genre have less impact in the clinical outcome of this age group."
   ]
  },
  {
   "cell_type": "code",
   "execution_count": 12,
   "id": "20841665",
   "metadata": {
    "execution": {
     "iopub.execute_input": "2022-12-23T19:06:11.109053Z",
     "iopub.status.busy": "2022-12-23T19:06:11.108665Z",
     "iopub.status.idle": "2022-12-23T19:06:12.844541Z",
     "shell.execute_reply": "2022-12-23T19:06:12.843411Z"
    },
    "papermill": {
     "duration": 1.747114,
     "end_time": "2022-12-23T19:06:12.847130",
     "exception": false,
     "start_time": "2022-12-23T19:06:11.100016",
     "status": "completed"
    },
    "tags": []
   },
   "outputs": [
    {
     "data": {
      "image/png": "[encoded data removed]",
      "text/plain": [
       "<Figure size 640x480 with 1 Axes>"
      ]
     },
     "metadata": {},
     "output_type": "display_data"
    }
   ],
   "source": [
    "#clean null data from diabetes columns\n",
    "data_transformed = data_transformed.loc[(data_transformed.DIABETES != 98)]\n",
    "d = sns.histplot(data=data_transformed, x='DIABETES', hue='DIED')\n",
    "plt.show(d)"
   ]
  },
  {
   "cell_type": "markdown",
   "id": "4212f4af",
   "metadata": {
    "papermill": {
     "duration": 0.00679,
     "end_time": "2022-12-23T19:06:12.861480",
     "exception": false,
     "start_time": "2022-12-23T19:06:12.854690",
     "status": "completed"
    },
    "tags": []
   },
   "source": [
    "There is a lote more individuals without diabetes than diabetic individuals in the dataset, but the number of deaths between the two categories looks very closer to each other. Let's analyze it."
   ]
  },
  {
   "cell_type": "code",
   "execution_count": 13,
   "id": "956d116c",
   "metadata": {
    "execution": {
     "iopub.execute_input": "2022-12-23T19:06:12.877277Z",
     "iopub.status.busy": "2022-12-23T19:06:12.876884Z",
     "iopub.status.idle": "2022-12-23T19:06:13.048817Z",
     "shell.execute_reply": "2022-12-23T19:06:13.047095Z"
    },
    "papermill": {
     "duration": 0.183909,
     "end_time": "2022-12-23T19:06:13.052415",
     "exception": false,
     "start_time": "2022-12-23T19:06:12.868506",
     "status": "completed"
    },
    "tags": []
   },
   "outputs": [
    {
     "name": "stdout",
     "output_type": "stream",
     "text": [
      "percentage of death in the diabetic group:  23 % |  percentage of death in the non-diabetic group:  5 %\n"
     ]
    }
   ],
   "source": [
    "n_diabetic_individuals = data_transformed['DIABETES'].loc[(data_transformed.DIABETES == 1)].count()\n",
    "n_diabetic_individuals_died = data_transformed['DIABETES'].loc[(data_transformed.DIABETES == 1) &(data_transformed.DIED == 'Yes')].count()\n",
    "\n",
    "n_non_diabetic_individuals = data_transformed['DIABETES'].loc[(data_transformed.DIABETES == 2)].count()\n",
    "n_non_diabetic_individuals_died = data_transformed['DIABETES'].loc[(data_transformed.DIABETES == 2) &(data_transformed.DIED == 'Yes')].count()\n",
    "\n",
    "percentage_diabetics_deaths = (n_diabetic_individuals_died/n_diabetic_individuals)*100\n",
    "percentage_non_diabetics_deaths = (n_non_diabetic_individuals_died/n_non_diabetic_individuals)*100\n",
    "print('percentage of death in the diabetic group: ', round(percentage_diabetics_deaths),'% | ', 'percentage of death in the non-diabetic group: ', round(percentage_non_diabetics_deaths),'%')"
   ]
  },
  {
   "cell_type": "markdown",
   "id": "e673da6d",
   "metadata": {
    "papermill": {
     "duration": 0.007042,
     "end_time": "2022-12-23T19:06:13.067244",
     "exception": false,
     "start_time": "2022-12-23T19:06:13.060202",
     "status": "completed"
    },
    "tags": []
   },
   "source": [
    "As we can see, the death in the diabetic group is more than 4 times more common than the death in the non-diabetic group, suggesting that diabetes is a important risk-factor of a poor clinical outcome of COVID-19 infection. This is according with the existing literature about the theme: *Kumar, A., Arora, A., Sharma, P., Anikhindi, S. A., Bansal, N., Singla, V., Khare, S., & Srivastava, A. (2020). Is diabetes mellitus associated with mortality and severity of COVID-19? A meta-analysis. Diabetes & metabolic syndrome, 14(4), 535–545. https://doi.org/10.1016/j.dsx.2020.04.044*\n",
    "\n",
    "However, it is important to say that there could be a bias due to the number of individuals of each category."
   ]
  }
 ],
 "metadata": {
  "kernelspec": {
   "display_name": "Python 3 (ipykernel)",
   "language": "python",
   "name": "python3"
  },
  "language_info": {
   "codemirror_mode": {
    "name": "ipython",
    "version": 3
   },
   "file_extension": ".py",
   "mimetype": "text/x-python",
   "name": "python",
   "nbconvert_exporter": "python",
   "pygments_lexer": "ipython3",
   "version": "3.8.10"
  },
  "papermill": {
   "default_parameters": {},
   "duration": 34.393578,
   "end_time": "2022-12-23T19:06:13.997423",
   "environment_variables": {},
   "exception": null,
   "input_path": "__notebook__.ipynb",
   "output_path": "__notebook__.ipynb",
   "parameters": {},
   "start_time": "2022-12-23T19:05:39.603845",
   "version": "2.3.4"
  }
 },
 "nbformat": 4,
 "nbformat_minor": 5
}
